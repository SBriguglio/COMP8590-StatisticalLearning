{
 "cells": [
  {
   "cell_type": "markdown",
   "id": "9e230ddf-2c78-4214-81e0-dc1a18bb47c1",
   "metadata": {},
   "source": [
    "# Diabetes Prediction\n",
    "#### Data Source\n",
    "From Kaggle by user Mohammed Mustafa \n",
    "Link https://www.kaggle.com/datasets/iammustafatz/diabetes-prediction-dataset\n",
    "### Description\n",
    "The data contains predictors `gender`, `age`, `hypertension`, `heart_disease`, `smoking_history`, `bmi`, `HbA1c_level`, `blood_glucose_level`, and the response `diabetes` for 100000 patients.\n",
    "- `gender` may have one of two qualitative values `male` or `female`\n",
    "- `age` may be any integer value from 0-80\n",
    "- `hypertension` is one-hot encoded where 0 and 1 are the absense and presence of hypertension exhibited by the patient, respectively\n",
    "- `heart_disease` is one-hot encoded where 0 and 1 are the absense and presence of heart disease exhibited by the patient, respectively\n",
    "- `smoking_history` may be one of six qualitative values, `not current`, `former`, `No Info`, `current`, `never`, and `ever`\n",
    "- `bmi` is the body mass index of the patient and may be any real number between 10 and 95.7\n",
    "- `HbA1c_level` is the level of hemoglobic A1c measured in the pateints blood and may be a real number from 3.5 to 9\n",
    "- `blood_glucose_level` is the level of glucose in the patient's bloodstream and may be a real nmumber from 80 to 300\n",
    "- `diabetes` is one-hot encoded where 0 and 1 are the absense and presence of diabetes exhibited by the patient, respectively\n",
    "\n",
    "### Training and Test Split\n",
    "The data will be randomly split into training and test data. 10% of the data will be removed exclusively for model testing and analysis toward the end of the experiment. The remaining 90% of data will be used for training purposes. \n",
    "\n",
    "## Centralized and Federated Environments\n",
    "### Centralized\n",
    "In this scenario, all data is stored in one location and training using a single logistic regression model. This model will be analyzed and provide a baseline against which the federated learning tests will be compared.\n",
    "\n",
    "### Federated\n",
    "In this scenario, the training data is randomly distributed into 8 different smaller sets which will be used to train 8 invididual logistic regression models concurrently. This will simulate 8 different clients training on their own local data. Initially, the bins will contain roughly the same amount of data. To explore the effects of an imbalanced distribution of data, another experiment will assess model training when this data is not equally distributed across the clients. It is important to note that between training rounds, the clients will send model parameters (in this case the model coefficients) to a central process acting as a server. This server will aggregate model updates to generate a new global model which all clients will use to update their own local model before the next round of training.\n"
   ]
  },
  {
   "cell_type": "markdown",
   "id": "fcdf28d6-8e8c-438e-96a7-7d673b46e450",
   "metadata": {},
   "source": [
    "## Installing Dependencies"
   ]
  },
  {
   "cell_type": "code",
   "execution_count": null,
   "id": "7ad823b6-d5d0-42eb-93c4-123629347e75",
   "metadata": {},
   "outputs": [],
   "source": [
    "#!pip install numpy pandas sklearn"
   ]
  },
  {
   "cell_type": "markdown",
   "id": "02c9f75c-6e44-44f4-8058-aa7758623f42",
   "metadata": {},
   "source": [
    "## Initial Data Processing"
   ]
  },
  {
   "cell_type": "code",
   "execution_count": 1,
   "id": "0aa0a99b-e112-4cbe-a939-5a8d68193365",
   "metadata": {},
   "outputs": [
    {
     "data": {
      "text/plain": [
       "'C:\\\\Repositories\\\\COMP8590-StatisticalLearning\\\\data'"
      ]
     },
     "execution_count": 1,
     "metadata": {},
     "output_type": "execute_result"
    }
   ],
   "source": [
    "import os\n",
    "\n",
    "# Change directory to the location holding the data\n",
    "os.chdir('../data')\n",
    "os.getcwd()"
   ]
  },
  {
   "cell_type": "code",
   "execution_count": 3,
   "id": "61137dbf-affc-4b59-9511-dc511c30bf4e",
   "metadata": {},
   "outputs": [],
   "source": [
    "import random\n",
    "from math import ceil\n",
    "import pandas as pd\n",
    "import sys\n",
    "\n",
    "random.seed(0)\n",
    "# Split the data, 90% Training, 10% Test\n",
    "# Test data only used for final evaluation\n",
    "\n",
    "# Count lines in file\n",
    "data_file = open('diabetes_prediction_dataset.csv')\n",
    "lines_data = sum(1 for line in data_file)\n",
    "\n",
    "# Reset file pointer\n",
    "data_file.seek(0)\n",
    "\n",
    "# Randomly Select Train and test Samples\n",
    "select_test = random.sample(range(1, lines_data), ceil(lines_data * 0.1))\n",
    "select_train = [row for row in range(1, lines_data) if row not in select_train]\n",
    "\n",
    "# Load in test data\n",
    "train_df = pd.read_csv('diabetes_prediction_dataset.csv', skiprows=select_test)\n",
    "test_df = pd.read_csv('diabetes_prediction_dataset.csv', skiprows=select_train)\n",
    "\n",
    "# For consistency later and to avoid repeating this step, we will save the training and test data to separate files\n",
    "train_df.to_csv('diabetes_prediction_dataset_train.csv', index=False)\n",
    "test_df.to_csv('diabetes_prediction_dataset_test.csv', index=False) # Note, this will be reserved exclusively for model analysis AFTER training"
   ]
  },
  {
   "cell_type": "markdown",
   "id": "ce8db592-a01d-466b-be6e-8f02ffd19420",
   "metadata": {},
   "source": [
    "# Centralized Logistic Regression\n",
    "## P"
   ]
  },
  {
   "cell_type": "code",
   "execution_count": null,
   "id": "a43acb96-303e-467e-8c19-d801d7bcd025",
   "metadata": {},
   "outputs": [],
   "source": []
  },
  {
   "cell_type": "code",
   "execution_count": null,
   "id": "3b7f7944-98ad-4fda-8b7c-4a1b860d6c05",
   "metadata": {},
   "outputs": [],
   "source": []
  },
  {
   "cell_type": "code",
   "execution_count": null,
   "id": "dc6e82f7-8ad9-44f1-858d-dfd55c1344e1",
   "metadata": {},
   "outputs": [],
   "source": [
    "import sklearn import linear_model\n",
    "import numpy\n",
    "\n"
   ]
  }
 ],
 "metadata": {
  "kernelspec": {
   "display_name": "Python 3 (ipykernel)",
   "language": "python",
   "name": "python3"
  },
  "language_info": {
   "codemirror_mode": {
    "name": "ipython",
    "version": 3
   },
   "file_extension": ".py",
   "mimetype": "text/x-python",
   "name": "python",
   "nbconvert_exporter": "python",
   "pygments_lexer": "ipython3",
   "version": "3.7.1"
  }
 },
 "nbformat": 4,
 "nbformat_minor": 5
}
