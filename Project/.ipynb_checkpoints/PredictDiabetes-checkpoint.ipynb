{
 "cells": [
  {
   "cell_type": "markdown",
   "id": "9e230ddf-2c78-4214-81e0-dc1a18bb47c1",
   "metadata": {},
   "source": [
    "# Diabetes Prediction\n",
    "#### Data Source\n",
    "From Kaggle by user Mohammed Mustafa \n",
    "Link https://www.kaggle.com/datasets/iammustafatz/diabetes-prediction-dataset\n",
    "### Description\n",
    "The data contains predictors `gender`, `age`, `hypertension`, `heart_disease`, `smoking_history`, `bmi`, `HbA1c_level`, `blood_glucose_level`, and the response `diabetes` for 100000 patients.\n",
    "- `gender` may have one of three qualitative values `female`, `male`, or `other`\n",
    "- `age` may be any integer value from 0-80\n",
    "- `hypertension` is one-hot encoded where 0 and 1 are the absense and presence of hypertension exhibited by the patient, respectively\n",
    "- `heart_disease` is one-hot encoded where 0 and 1 are the absense and presence of heart disease exhibited by the patient, respectively\n",
    "- `smoking_history` may be one of six qualitative values, `not current`, `former`, `No Info`, `current`, `never`, and `ever`\n",
    "- `bmi` is the body mass index of the patient and may be any real number between 10 and 95.7\n",
    "- `HbA1c_level` is the level of hemoglobic A1c measured in the pateints blood and may be a real number from 3.5 to 9\n",
    "- `blood_glucose_level` is the level of glucose in the patient's bloodstream and may be a real nmumber from 80 to 300\n",
    "- `diabetes` is one-hot encoded where 0 and 1 are the absense and presence of diabetes exhibited by the patient, respectively\n",
    "\n",
    "### Training and Test Split\n",
    "The data will be randomly split into training and test data. 10% of the data will be removed exclusively for model testing and analysis toward the end of the experiment. The remaining 90% of data will be used for training purposes. \n",
    "\n",
    "## Centralized and Federated Environments\n",
    "### Centralized\n",
    "In this scenario, all data is stored in one location and training using a single logistic regression model. This model will be analyzed and provide a baseline against which the federated learning tests will be compared.\n",
    "\n",
    "### Federated\n",
    "In this scenario, the training data is randomly distributed into 8 different smaller sets which will be used to train 8 invididual logistic regression models concurrently. This will simulate 8 different clients training on their own local data. Initially, the bins will contain roughly the same amount of data. To explore the effects of an imbalanced distribution of data, another experiment will assess model training when this data is not equally distributed across the clients. It is important to note that between training rounds, the clients will send model parameters (in this case the model coefficients) to a central process acting as a server. This server will aggregate model updates to generate a new global model which all clients will use to update their own local model before the next round of training.\n"
   ]
  },
  {
   "cell_type": "markdown",
   "id": "fcdf28d6-8e8c-438e-96a7-7d673b46e450",
   "metadata": {},
   "source": [
    "## Installing Dependencies"
   ]
  },
  {
   "cell_type": "code",
   "execution_count": 1,
   "id": "7ad823b6-d5d0-42eb-93c4-123629347e75",
   "metadata": {},
   "outputs": [],
   "source": [
    "#!pip install numpy pandas sklearn"
   ]
  },
  {
   "cell_type": "markdown",
   "id": "02c9f75c-6e44-44f4-8058-aa7758623f42",
   "metadata": {},
   "source": [
    "## Initial Data Processing"
   ]
  },
  {
   "cell_type": "code",
   "execution_count": 2,
   "id": "0aa0a99b-e112-4cbe-a939-5a8d68193365",
   "metadata": {},
   "outputs": [
    {
     "data": {
      "text/plain": [
       "'C:\\\\Repositories\\\\COMP8590-StatisticalLearning\\\\data'"
      ]
     },
     "execution_count": 2,
     "metadata": {},
     "output_type": "execute_result"
    }
   ],
   "source": [
    "import os\n",
    "\n",
    "# Change directory to the location holding the data\n",
    "os.chdir('../data')\n",
    "os.getcwd()"
   ]
  },
  {
   "cell_type": "code",
   "execution_count": 3,
   "id": "61137dbf-affc-4b59-9511-dc511c30bf4e",
   "metadata": {},
   "outputs": [],
   "source": [
    "import random\n",
    "from math import ceil\n",
    "import pandas as pd\n",
    "import sys\n",
    "from sklearn import preprocessing\n",
    "\n",
    "random.seed(100)\n",
    "random_state = 99\n",
    "n_clients = 75\n",
    "# Split the data, 90% Training, 10% Test\n",
    "# Test data only used for final evaluation\n",
    "# First need to create dummy variables and scale data\n",
    "raw_df = pd.read_csv('diabetes_prediction_dataset.csv')\n",
    "\n",
    "# As an additional preprocessing task, we need to create dummy variables for the `smoking_history` predictor.\n",
    "# This is necessary so that we can create 6 dummy dummy variables that will be one-hot encoded for each of the\n",
    "# possible categorical values of `smoking_history`. The new dummy variables are `smoking_history_No Info`,\n",
    "# `smoking_history_current`, `smoking_history_ever`, `smoking_history_former`, `smoking_history_never`, and\n",
    "# `smoking_history_not current`.\n",
    "smk_dummies = pd.get_dummies(raw_df['smoking_history'], dtype=int)\n",
    "raw_df = raw_df.drop(columns=['smoking_history'])\n",
    "for column in smk_dummies.columns:\n",
    "        raw_df.insert(7, 'smoking_history_' + column, smk_dummies[column])\n",
    "\n",
    "# The same process must also be performed for the `gender` predictor. We will create three dummy variables, \n",
    "# `female`, `male`, and `other`, and one-hot encode them in a similar fashion to above\n",
    "gnd_dummies = pd.get_dummies(raw_df['gender'], dtype=int)\n",
    "raw_df = raw_df.drop(columns=['gender'])\n",
    "for column in gnd_dummies.columns:\n",
    "        raw_df.insert(0, 'gender_' + column, gnd_dummies[column])\n",
    "\n",
    "# Scale the data to range [0, 1]\n",
    "scaler = preprocessing.MinMaxScaler()\n",
    "raw_df = pd.DataFrame(scaler.fit_transform(raw_df), columns=raw_df.columns)\n",
    "\n",
    "# Save the processed data\n",
    "raw_df.to_csv('diabetes_prediction_dataset_processed.csv', index=False)\n",
    "\n",
    "# Count lines in file\n",
    "data_file = open('diabetes_prediction_dataset_processed.csv')\n",
    "lines_data = sum(1 for line in data_file)\n",
    "\n",
    "# Reset file pointer\n",
    "data_file.seek(0)\n",
    "\n",
    "# Randomly Select Train and test Samples\n",
    "select_test = random.sample(range(1, lines_data), ceil(lines_data * 0.1))\n",
    "select_train = [row for row in range(1, lines_data) if row not in select_test]\n",
    "\n",
    "# Load in test data\n",
    "train_df = pd.read_csv('diabetes_prediction_dataset_processed.csv', skiprows=select_test)\n",
    "test_df = pd.read_csv('diabetes_prediction_dataset_processed.csv', skiprows=select_train)\n",
    "\n",
    "# Confirm data added correctly\n",
    "#print(train_df.shape)\n",
    "#print(train_df.head())\n",
    "#print(test_df.shape)\n",
    "#print(test_df)\n",
    "\n",
    "# For consistency later and to avoid repeating this step, we will save the training and test data to separate files\n",
    "train_df.to_csv('diabetes_prediction_dataset_train.csv', index=False)\n",
    "test_df.to_csv('diabetes_prediction_dataset_test.csv', index=False) # Note, this will be reserved exclusively for model analysis AFTER training"
   ]
  },
  {
   "cell_type": "markdown",
   "id": "ce8db592-a01d-466b-be6e-8f02ffd19420",
   "metadata": {},
   "source": [
    "# Centralized Logistic Regression\n",
    "## Scenario\n",
    "In this scenario, we create a logistic regression model that is trained to predict the reponse `diabetes` using the predictors `gender`, `age`, `hypertension`, `heart_disease`, `smoking_history`, `bmi`, `HbA1c_level`, and `blood_glucose_level`. We assume that all training data and the training task itself is centralized to one system. Here, we train the model using k-fold cross-validation."
   ]
  },
  {
   "cell_type": "markdown",
   "id": "01452610-476e-4fb2-8509-a2867769d4d1",
   "metadata": {},
   "source": [
    "### Implementation\n",
    "#### Data Processing\n",
    "We begin by importing the necessary packages and processing the training data. Here we require the training data to be split again into training and validation data. Here, the traininig set is relatively large (~90000 samples) so we implement k-fold cross-validation where k=10. For this task, scikit-learn fortunately has a built-in function that will train the logistic regession model with cross validation."
   ]
  },
  {
   "cell_type": "code",
   "execution_count": 4,
   "id": "dc6e82f7-8ad9-44f1-858d-dfd55c1344e1",
   "metadata": {},
   "outputs": [
    {
     "name": "stdout",
     "output_type": "stream",
     "text": [
      "Size:\n",
      "\tcent_train:\t(89999, 16)\n",
      "\tX_train:\t(89999, 15)\n",
      "\tY_train:\t(89999,)\n"
     ]
    }
   ],
   "source": [
    "# imports \n",
    "from sklearn.linear_model import LogisticRegressionCV\n",
    "import numpy as np\n",
    "\n",
    "# Data Preparation, get training data, isolate into predictors and response columns\n",
    "cent_train = pd.read_csv('diabetes_prediction_dataset_train.csv')\n",
    "X_train = cent_train.loc[:, cent_train.columns != 'diabetes'].to_numpy()\n",
    "Y_train = cent_train.loc[:, cent_train.columns == 'diabetes'].to_numpy().ravel()\n",
    "\n",
    "# Confirm shape should be cent_train: (n, 16), X_train: (n, 15), and Y_train (n,) where n is ~90000\n",
    "print('Size:\\n\\tcent_train:\\t{}\\n\\tX_train:\\t{}\\n\\tY_train:\\t{}'.format(cent_train.shape, X_train.shape, Y_train.shape))"
   ]
  },
  {
   "cell_type": "markdown",
   "id": "6abcd2fe-b7a7-43d3-853b-f0fceb8eeaf4",
   "metadata": {},
   "source": [
    "#### Model Definition and Training\n",
    "Here, the logistic regression model is defined. `LogisticRegressionCV` has a `cv` parameter which governs the number of folds in the cross-validation method. Because we are performing 10-fold cross-validation, we set `cv=10`. Finally, we tell select to use the Stochastic Average Gradient decent algorithm as per scikit's recommendations since it runs faster for larger datasets. Therefore, we set `solver='sag'`. SAG is also only compatible with the L2 penalty term so we need to set the `penalty` parameter to `penalty='l2'`. `random_state` is another parameter which should be set when using SAG. We set `random_state=0`. We also set the `max_iter` parameter to `304` which halts learning when the model converges or when the maximum number of training iterations/epochs has been reached; whichever comes first. The `n_jobs` parameter is set to 10 to enable multithreaded training on 5 CPU cores. This speeds up model training by simultaneously training the model with 5 of the 10 folds. `verbose=1` simply allows us to view the training progress. "
   ]
  },
  {
   "cell_type": "code",
   "execution_count": 5,
   "id": "0254444d-26a3-4c01-b26d-6b2dddebe34a",
   "metadata": {},
   "outputs": [],
   "source": [
    "# Model Definition\n",
    "cModel_LR = LogisticRegressionCV(cv=10, solver='sag', max_iter=300, random_state=random_state, penalty='l2', n_jobs=10, verbose=0)  # set verbose=1 to view output"
   ]
  },
  {
   "cell_type": "code",
   "execution_count": 6,
   "id": "8feb338b-e11e-4c94-b098-4157ddbadd27",
   "metadata": {},
   "outputs": [
    {
     "data": {
      "text/plain": [
       "LogisticRegressionCV(cv=10, max_iter=300, n_jobs=10, random_state=99,\n",
       "                     solver='sag')"
      ]
     },
     "execution_count": 6,
     "metadata": {},
     "output_type": "execute_result"
    }
   ],
   "source": [
    "# Model Training\n",
    "cModel_LR.fit(X_train, Y_train)"
   ]
  },
  {
   "cell_type": "markdown",
   "id": "f76a80c2-f773-4770-9aaa-dc508f1ae279",
   "metadata": {},
   "source": [
    "#### Centralized Model Brief Evaluation"
   ]
  },
  {
   "cell_type": "code",
   "execution_count": 7,
   "id": "dff78939-7fbe-4e55-93e7-55a25b3a1433",
   "metadata": {},
   "outputs": [],
   "source": [
    "cent_test = pd.read_csv('diabetes_prediction_dataset_test.csv')\n",
    "X_test = cent_test.loc[:, cent_test.columns != 'diabetes'].to_numpy()\n",
    "Y_test = cent_test.loc[:, cent_test.columns == 'diabetes'].to_numpy().ravel()\n",
    "Y_pred = cModel_LR.predict(X_test)"
   ]
  },
  {
   "cell_type": "code",
   "execution_count": 8,
   "id": "391b1477-3994-469e-ab2c-453ae0051d83",
   "metadata": {},
   "outputs": [
    {
     "name": "stdout",
     "output_type": "stream",
     "text": [
      "              precision    recall  f1-score   support\n",
      "\n",
      "         0.0       0.96      0.99      0.98      9119\n",
      "         1.0       0.89      0.61      0.72       882\n",
      "\n",
      "    accuracy                           0.96     10001\n",
      "   macro avg       0.93      0.80      0.85     10001\n",
      "weighted avg       0.96      0.96      0.96     10001\n",
      "\n"
     ]
    },
    {
     "data": {
      "image/png": "[encoded data removed]",
      "text/plain": [
       "<Figure size 640x480 with 2 Axes>"
      ]
     },
     "metadata": {},
     "output_type": "display_data"
    }
   ],
   "source": [
    "from sklearn import metrics\n",
    "from sklearn.metrics import classification_report, mean_absolute_error, r2_score, mean_squared_error\n",
    "import matplotlib.pyplot as plt\n",
    "import seaborn as sns\n",
    "\n",
    "# Print the confusion matrix\n",
    "cent_CM = metrics.confusion_matrix(Y_test, Y_pred)\n",
    "classes = ['Negative', 'Positive']\n",
    "_, axis = plt.subplots()\n",
    "plt.xticks(np.arange(len(classes)), classes)\n",
    "plt.yticks(np.arange(len(classes)), classes)\n",
    "sns.heatmap(pd.DataFrame(cent_CM), fmt='g', cmap='YlGnBu', annot=True)\n",
    "axis.xaxis.set_label_position('top')\n",
    "plt.tight_layout()\n",
    "plt.title('Centralized LR Confusion Matrix', y=1.1)\n",
    "plt.ylabel('Actual')\n",
    "plt.xlabel('Predicted')\n",
    "\n",
    "# Print the Classification Report\n",
    "print(classification_report(Y_test, Y_pred))"
   ]
  },
  {
   "cell_type": "code",
   "execution_count": 9,
   "id": "2cf17857-6692-4f49-bbb0-401b9cbc1367",
   "metadata": {},
   "outputs": [
    {
     "data": {
      "image/png": "[encoded data removed]",
      "text/plain": [
       "<Figure size 640x480 with 1 Axes>"
      ]
     },
     "metadata": {},
     "output_type": "display_data"
    }
   ],
   "source": [
    "# Print the ROC and AUC score\n",
    "Y_prob = cModel_LR.predict_proba(X_test)[::,1]\n",
    "n_pred, p_pred, _ = metrics.roc_curve(Y_test, Y_prob)\n",
    "auc = metrics.roc_auc_score(Y_test, Y_prob)\n",
    "plt.plot(n_pred, p_pred, label=\"auc=\"+str(auc))\n",
    "plt.title('ROC Curve (Centralized Learning)', y=1.1)\n",
    "plt.ylabel('True Positive Rate')\n",
    "plt.xlabel('False Positive Rate')\n",
    "plt.legend(loc=4)\n",
    "plt.show()"
   ]
  },
  {
   "cell_type": "markdown",
   "id": "ee31b260-3aef-4d28-9876-c4b861ea2484",
   "metadata": {},
   "source": [
    "# Federated Logistic Regression\n",
    "## Scenario\n",
    "Like before, we create a logistic regression model that is trained to predict the reponse `diabetes` using the predictors `gender`, `age`, `hypertension`, `heart_disease`, `smoking_history`, `bmi`, `HbA1c_level`, and `blood_glucose_level`. This time, however, we assume that all training data and the training task itself is distributed across a network of 75 clients. A server receives model udpates from the clients and aggregates them to create a new global model. The aggregation method used closely follows the original aggregation algorithm, FedAVG, proposed by McMahan <i>et al</i><sup>1</sup>. It is worth noting that because the number of clients is relatively small, all clients will contribute to aggregation in each round as opposed to randomly selected models.\n",
    "\n",
    "1. McMahan, B., Moore, E., Ramage, D., Hampson, S. &amp; Arcas, B.A.y.. (2017). Communication-Efficient Learning of Deep Networks from Decentralized Data. <i>Proceedings of the 20th International Conference on Artificial Intelligence and Statistics</i>, in <i>Proceedings of Machine Learning Research</i> 54:1273-1282 Available from https://proceedings.mlr.press/v54/mcmahan17a.html."
   ]
  },
  {
   "cell_type": "markdown",
   "id": "fe86d7ad-1155-4b3d-a24e-b3db93d5e912",
   "metadata": {
    "tags": []
   },
   "source": [
    "### Balanced Implementation\n",
    "#### Data Processing\n",
    "To simulate training on various client devices, data is equally divided into 75 subsets at random. 8 individual models will be trained exclusively on their respective subsets. On the client side, we require the training data to be split again into training and validation data. We implement k-fold cross-validation where k=10, similarly to above."
   ]
  },
  {
   "cell_type": "code",
   "execution_count": 10,
   "id": "2e09d6c9-6fee-4cfd-ada1-ced14c8af195",
   "metadata": {
    "tags": []
   },
   "outputs": [],
   "source": [
    "# Read in the data to a new datafram\n",
    "fed_train_df = pd.read_csv('diabetes_prediction_dataset_train.csv')\n",
    "\n",
    "# Randomly shuffle the samples in the dataframe and then split it into 8 client dataframes\n",
    "fed_train_shuffled_df = fed_train_df.sample(frac=1)\n",
    "client_set_df = np.array_split(fed_train_shuffled_df, n_clients)\n",
    "\n",
    "# Save each fraction to a new csv file\n",
    "client_no = 0\n",
    "for client_df in client_set_df:\n",
    "    client_df.to_csv('diabetes_prediction_dataset_CLIENT_' + str(client_no) + '.csv', index=False)\n",
    "    client_no += 1"
   ]
  },
  {
   "cell_type": "code",
   "execution_count": 11,
   "id": "ecd2b618-c2f6-4b7a-b2ad-2b18ca2d8767",
   "metadata": {
    "tags": []
   },
   "outputs": [],
   "source": [
    "# Data Preparation, get training data, isolate into predictors and response columns\n",
    "fed_train = []  # An array of pd.DataFrames; each dataframe will store predictors and response columns for a respective client\n",
    "fed_X_train = []  # An array of pd.DataFrames; each dataframe will store only predictors columns for a respective client \n",
    "fed_Y_train = []  # An array of pd.DataFrames; each dataframe will store only the response column for a respective client\n",
    "for i in range(n_clients):\n",
    "    fed_train.append(pd.read_csv('diabetes_prediction_dataset_CLIENT_' + str(i) + '.csv'))\n",
    "    fed_X_train.append(fed_train[i].loc[:, fed_train[i].columns != 'diabetes'].to_numpy())\n",
    "    fed_Y_train.append(fed_train[i].loc[:, fed_train[i].columns == 'diabetes'].to_numpy().ravel())\n",
    "    \n",
    "    # Confirm shape should be cent_train: (n, 16), X_train: (n, 15), and Y_train (n,) where n is ~90000\n",
    "    #print('Size:\\n\\tfed_train[{}]:\\t{}\\n\\tfed_X_train[{}]:\\t{}\\n\\tfed_Y_train[{}]:\\t{}'.format(i, fed_train[i].shape, i, fed_X_train[i].shape, i, fed_Y_train[i].shape))"
   ]
  },
  {
   "cell_type": "markdown",
   "id": "5d22a5fa-3f84-406e-9aa7-071abf33b840",
   "metadata": {},
   "source": [
    "#### Model Definition and Training\n",
    "In the federated setting, we define 8 logistic regression models with the same parameters as in the above centralized implementation. After defining the models for each client, we also define an aggregation function which will occur at regular intervals after 10 epochs of client training. This will occur for a maximum of 30 federated learning cycles (for a total of 300 client training epochs)."
   ]
  },
  {
   "cell_type": "code",
   "execution_count": 12,
   "id": "5ab1c51b-86f3-4f4f-bb66-295aa00a8efd",
   "metadata": {
    "tags": []
   },
   "outputs": [],
   "source": [
    "# Define Models\n",
    "# Define an array of models each representing a single client\n",
    "fedModels_LR = []\n",
    "for i in range(n_clients):\n",
    "    fedModels_LR.append(LogisticRegressionCV(cv=10, solver='sag', max_iter=10, random_state=random_state, penalty='l2', n_jobs=10, verbose=0))  # set verbose=1 to view output\n",
    "    \n",
    "\n",
    "# Define an update class\n",
    "class ModelUpdate:\n",
    "    def __init__(self, coef_, intercept_, C_):\n",
    "        self.coef_ = coef_\n",
    "        self.intercept_ = intercept_\n",
    "        self.C_ = C_\n",
    "\n",
    "\n",
    "# Define Aggregation Function\n",
    "def FedAVG(updates):\n",
    "    avg_coef_ = np.empty(shape=updates[0].coef_.shape)\n",
    "    avg_intercept_ = np.empty(shape=updates[0].intercept_.shape)\n",
    "    avg_C_ = np.empty(shape=updates[0].C_.shape)\n",
    "    \n",
    "    for update in updates:\n",
    "        avg_coef_ += update.coef_\n",
    "        avg_intercept_ += update.intercept_\n",
    "        avg_C_ += update.C_\n",
    "    \n",
    "    global_update = ModelUpdate(coef_=avg_coef_/len(updates),\n",
    "                           intercept_=avg_intercept_/len(updates),\n",
    "                           C_=avg_C_/len(updates))\n",
    "    \n",
    "    return global_update"
   ]
  },
  {
   "cell_type": "code",
   "execution_count": 13,
   "id": "dc29eda0-2566-46d6-bef7-1e44dd5d3828",
   "metadata": {
    "tags": []
   },
   "outputs": [
    {
     "data": {
      "application/vnd.jupyter.widget-view+json": {
       "model_id": "cb99bd7a231c4f2fa1c51eeda64a5d64",
       "version_major": 2,
       "version_minor": 0
      },
      "text/plain": [
       "Training...:   0%|          | 0/30 [00:00<?, ?it/s]"
      ]
     },
     "metadata": {},
     "output_type": "display_data"
    },
    {
     "data": {
      "application/vnd.jupyter.widget-view+json": {
       "model_id": "",
       "version_major": 2,
       "version_minor": 0
      },
      "text/plain": [
       "Client:   0%|          | 0/75 [00:00<?, ?it/s]"
      ]
     },
     "metadata": {},
     "output_type": "display_data"
    },
    {
     "data": {
      "application/vnd.jupyter.widget-view+json": {
       "model_id": "",
       "version_major": 2,
       "version_minor": 0
      },
      "text/plain": [
       "Client:   0%|          | 0/75 [00:00<?, ?it/s]"
      ]
     },
     "metadata": {},
     "output_type": "display_data"
    },
    {
     "data": {
      "application/vnd.jupyter.widget-view+json": {
       "model_id": "",
       "version_major": 2,
       "version_minor": 0
      },
      "text/plain": [
       "Client:   0%|          | 0/75 [00:00<?, ?it/s]"
      ]
     },
     "metadata": {},
     "output_type": "display_data"
    },
    {
     "data": {
      "application/vnd.jupyter.widget-view+json": {
       "model_id": "",
       "version_major": 2,
       "version_minor": 0
      },
      "text/plain": [
       "Client:   0%|          | 0/75 [00:00<?, ?it/s]"
      ]
     },
     "metadata": {},
     "output_type": "display_data"
    },
    {
     "data": {
      "application/vnd.jupyter.widget-view+json": {
       "model_id": "",
       "version_major": 2,
       "version_minor": 0
      },
      "text/plain": [
       "Client:   0%|          | 0/75 [00:00<?, ?it/s]"
      ]
     },
     "metadata": {},
     "output_type": "display_data"
    },
    {
     "data": {
      "application/vnd.jupyter.widget-view+json": {
       "model_id": "",
       "version_major": 2,
       "version_minor": 0
      },
      "text/plain": [
       "Client:   0%|          | 0/75 [00:00<?, ?it/s]"
      ]
     },
     "metadata": {},
     "output_type": "display_data"
    },
    {
     "data": {
      "application/vnd.jupyter.widget-view+json": {
       "model_id": "",
       "version_major": 2,
       "version_minor": 0
      },
      "text/plain": [
       "Client:   0%|          | 0/75 [00:00<?, ?it/s]"
      ]
     },
     "metadata": {},
     "output_type": "display_data"
    },
    {
     "data": {
      "application/vnd.jupyter.widget-view+json": {
       "model_id": "",
       "version_major": 2,
       "version_minor": 0
      },
      "text/plain": [
       "Client:   0%|          | 0/75 [00:00<?, ?it/s]"
      ]
     },
     "metadata": {},
     "output_type": "display_data"
    },
    {
     "data": {
      "application/vnd.jupyter.widget-view+json": {
       "model_id": "",
       "version_major": 2,
       "version_minor": 0
      },
      "text/plain": [
       "Client:   0%|          | 0/75 [00:00<?, ?it/s]"
      ]
     },
     "metadata": {},
     "output_type": "display_data"
    },
    {
     "data": {
      "application/vnd.jupyter.widget-view+json": {
       "model_id": "",
       "version_major": 2,
       "version_minor": 0
      },
      "text/plain": [
       "Client:   0%|          | 0/75 [00:00<?, ?it/s]"
      ]
     },
     "metadata": {},
     "output_type": "display_data"
    },
    {
     "data": {
      "application/vnd.jupyter.widget-view+json": {
       "model_id": "",
       "version_major": 2,
       "version_minor": 0
      },
      "text/plain": [
       "Client:   0%|          | 0/75 [00:00<?, ?it/s]"
      ]
     },
     "metadata": {},
     "output_type": "display_data"
    },
    {
     "data": {
      "application/vnd.jupyter.widget-view+json": {
       "model_id": "",
       "version_major": 2,
       "version_minor": 0
      },
      "text/plain": [
       "Client:   0%|          | 0/75 [00:00<?, ?it/s]"
      ]
     },
     "metadata": {},
     "output_type": "display_data"
    },
    {
     "data": {
      "application/vnd.jupyter.widget-view+json": {
       "model_id": "",
       "version_major": 2,
       "version_minor": 0
      },
      "text/plain": [
       "Client:   0%|          | 0/75 [00:00<?, ?it/s]"
      ]
     },
     "metadata": {},
     "output_type": "display_data"
    },
    {
     "data": {
      "application/vnd.jupyter.widget-view+json": {
       "model_id": "",
       "version_major": 2,
       "version_minor": 0
      },
      "text/plain": [
       "Client:   0%|          | 0/75 [00:00<?, ?it/s]"
      ]
     },
     "metadata": {},
     "output_type": "display_data"
    },
    {
     "data": {
      "application/vnd.jupyter.widget-view+json": {
       "model_id": "",
       "version_major": 2,
       "version_minor": 0
      },
      "text/plain": [
       "Client:   0%|          | 0/75 [00:00<?, ?it/s]"
      ]
     },
     "metadata": {},
     "output_type": "display_data"
    },
    {
     "data": {
      "application/vnd.jupyter.widget-view+json": {
       "model_id": "",
       "version_major": 2,
       "version_minor": 0
      },
      "text/plain": [
       "Client:   0%|          | 0/75 [00:00<?, ?it/s]"
      ]
     },
     "metadata": {},
     "output_type": "display_data"
    },
    {
     "data": {
      "application/vnd.jupyter.widget-view+json": {
       "model_id": "",
       "version_major": 2,
       "version_minor": 0
      },
      "text/plain": [
       "Client:   0%|          | 0/75 [00:00<?, ?it/s]"
      ]
     },
     "metadata": {},
     "output_type": "display_data"
    },
    {
     "data": {
      "application/vnd.jupyter.widget-view+json": {
       "model_id": "",
       "version_major": 2,
       "version_minor": 0
      },
      "text/plain": [
       "Client:   0%|          | 0/75 [00:00<?, ?it/s]"
      ]
     },
     "metadata": {},
     "output_type": "display_data"
    },
    {
     "data": {
      "application/vnd.jupyter.widget-view+json": {
       "model_id": "",
       "version_major": 2,
       "version_minor": 0
      },
      "text/plain": [
       "Client:   0%|          | 0/75 [00:00<?, ?it/s]"
      ]
     },
     "metadata": {},
     "output_type": "display_data"
    },
    {
     "data": {
      "application/vnd.jupyter.widget-view+json": {
       "model_id": "",
       "version_major": 2,
       "version_minor": 0
      },
      "text/plain": [
       "Client:   0%|          | 0/75 [00:00<?, ?it/s]"
      ]
     },
     "metadata": {},
     "output_type": "display_data"
    },
    {
     "data": {
      "application/vnd.jupyter.widget-view+json": {
       "model_id": "",
       "version_major": 2,
       "version_minor": 0
      },
      "text/plain": [
       "Client:   0%|          | 0/75 [00:00<?, ?it/s]"
      ]
     },
     "metadata": {},
     "output_type": "display_data"
    },
    {
     "data": {
      "application/vnd.jupyter.widget-view+json": {
       "model_id": "",
       "version_major": 2,
       "version_minor": 0
      },
      "text/plain": [
       "Client:   0%|          | 0/75 [00:00<?, ?it/s]"
      ]
     },
     "metadata": {},
     "output_type": "display_data"
    },
    {
     "data": {
      "application/vnd.jupyter.widget-view+json": {
       "model_id": "",
       "version_major": 2,
       "version_minor": 0
      },
      "text/plain": [
       "Client:   0%|          | 0/75 [00:00<?, ?it/s]"
      ]
     },
     "metadata": {},
     "output_type": "display_data"
    },
    {
     "data": {
      "application/vnd.jupyter.widget-view+json": {
       "model_id": "",
       "version_major": 2,
       "version_minor": 0
      },
      "text/plain": [
       "Client:   0%|          | 0/75 [00:00<?, ?it/s]"
      ]
     },
     "metadata": {},
     "output_type": "display_data"
    },
    {
     "data": {
      "application/vnd.jupyter.widget-view+json": {
       "model_id": "",
       "version_major": 2,
       "version_minor": 0
      },
      "text/plain": [
       "Client:   0%|          | 0/75 [00:00<?, ?it/s]"
      ]
     },
     "metadata": {},
     "output_type": "display_data"
    },
    {
     "data": {
      "application/vnd.jupyter.widget-view+json": {
       "model_id": "",
       "version_major": 2,
       "version_minor": 0
      },
      "text/plain": [
       "Client:   0%|          | 0/75 [00:00<?, ?it/s]"
      ]
     },
     "metadata": {},
     "output_type": "display_data"
    },
    {
     "data": {
      "application/vnd.jupyter.widget-view+json": {
       "model_id": "",
       "version_major": 2,
       "version_minor": 0
      },
      "text/plain": [
       "Client:   0%|          | 0/75 [00:00<?, ?it/s]"
      ]
     },
     "metadata": {},
     "output_type": "display_data"
    },
    {
     "data": {
      "application/vnd.jupyter.widget-view+json": {
       "model_id": "",
       "version_major": 2,
       "version_minor": 0
      },
      "text/plain": [
       "Client:   0%|          | 0/75 [00:00<?, ?it/s]"
      ]
     },
     "metadata": {},
     "output_type": "display_data"
    },
    {
     "data": {
      "application/vnd.jupyter.widget-view+json": {
       "model_id": "",
       "version_major": 2,
       "version_minor": 0
      },
      "text/plain": [
       "Client:   0%|          | 0/75 [00:00<?, ?it/s]"
      ]
     },
     "metadata": {},
     "output_type": "display_data"
    },
    {
     "data": {
      "application/vnd.jupyter.widget-view+json": {
       "model_id": "",
       "version_major": 2,
       "version_minor": 0
      },
      "text/plain": [
       "Client:   0%|          | 0/75 [00:00<?, ?it/s]"
      ]
     },
     "metadata": {},
     "output_type": "display_data"
    }
   ],
   "source": [
    "# Training\n",
    "# Note:  Because the individual models fail to converge initially, the ConvergenceWarning generated by sklearn's fit() function is surpressed in the output cell below.\n",
    "#        For this reason, the training code is wrapped in `with warnings.catch_warnings():....`\n",
    "import warnings\n",
    "from tqdm import tqdm_notebook\n",
    "\n",
    "# Define the Global Model (it is not trained directly)\n",
    "fedModel_GLOBAL_LR = LogisticRegressionCV(cv=10, solver='sag', max_iter=300, random_state=random_state, penalty='l2', n_jobs=10, verbose=0)\n",
    "\n",
    "with warnings.catch_warnings():\n",
    "    warnings.simplefilter('ignore')\n",
    "    \n",
    "    # SERVER: 30 Federated Learning Cycles\n",
    "    for i in tqdm_notebook(range(30), desc='Training...'):\n",
    "        # Generate and array of updates\n",
    "        updates = []\n",
    "        # CLIENT: Each Client trains on it's own data for 100 epochs\n",
    "        for j in tqdm_notebook(range(n_clients), desc='Client', leave=False):\n",
    "            fedModels_LR[j].fit(fed_X_train[j], fed_Y_train[j])\n",
    "            # Generate model update with model parameters\n",
    "            updates.append(ModelUpdate(coef_=fedModels_LR[j].coef_,\n",
    "                                       intercept_=fedModels_LR[j].intercept_,\n",
    "                                       C_=fedModels_LR[j].C_)\n",
    "                          )\n",
    "        \n",
    "        # Aggregate client updates and generate global model\n",
    "        global_update = FedAVG(updates)\n",
    "        \n",
    "        # Update the global model\n",
    "        fedModel_GLOBAL_LR.coef_ = global_update.coef_\n",
    "        fedModel_GLOBAL_LR.intercept_ = global_update.intercept_\n",
    "        fedModel_GLOBAL_LR.C_ = global_update.C_\n",
    "        fedModel_GLOBAL_LR.classes_ = fedModels_LR[0].classes_\n",
    "            \n",
    "        # Update client local models before beginning next round of federated learning\n",
    "        for client in fedModels_LR:\n",
    "            client.coef_ = global_update.coef_\n",
    "            client.intercept_ = global_update.intercept_\n",
    "            client.C_ = global_update.C_\n",
    "    "
   ]
  },
  {
   "cell_type": "markdown",
   "id": "1ffe0bee-2995-4765-99bb-a2c43a1580fb",
   "metadata": {},
   "source": [
    "#### Federated Model Brief Evaluation"
   ]
  },
  {
   "cell_type": "code",
   "execution_count": 14,
   "id": "6397d21c-270f-4ff8-ba48-b1798a1d16c0",
   "metadata": {},
   "outputs": [],
   "source": [
    "# Load the same test data as the centralized experiment\n",
    "fed_test = pd.read_csv('diabetes_prediction_dataset_test.csv')\n",
    "fed_X_test = fed_test.loc[:, fed_test.columns != 'diabetes'].to_numpy()\n",
    "fed_Y_test = fed_test.loc[:, fed_test.columns == 'diabetes'].to_numpy().ravel()\n",
    "fed_Y_pred = fedModel_GLOBAL_LR.predict(fed_X_test)"
   ]
  },
  {
   "cell_type": "code",
   "execution_count": 15,
   "id": "d06c4a1a-b9f9-4b0b-a1b7-52bdda4c7e1a",
   "metadata": {},
   "outputs": [
    {
     "name": "stdout",
     "output_type": "stream",
     "text": [
      "              precision    recall  f1-score   support\n",
      "\n",
      "         0.0       0.96      0.99      0.98      9119\n",
      "         1.0       0.89      0.61      0.72       882\n",
      "\n",
      "    accuracy                           0.96     10001\n",
      "   macro avg       0.93      0.80      0.85     10001\n",
      "weighted avg       0.96      0.96      0.96     10001\n",
      "\n"
     ]
    },
    {
     "data": {
      "image/png": "[encoded data removed]",
      "text/plain": [
       "<Figure size 640x480 with 2 Axes>"
      ]
     },
     "metadata": {},
     "output_type": "display_data"
    }
   ],
   "source": [
    "# Print the confusion matrix\n",
    "fed_CM = metrics.confusion_matrix(fed_Y_test, fed_Y_pred)\n",
    "classes = ['Negative', 'Positive']\n",
    "_, fed_axis = plt.subplots()\n",
    "plt.xticks(np.arange(len(classes)), classes)\n",
    "plt.yticks(np.arange(len(classes)), classes)\n",
    "sns.heatmap(pd.DataFrame(fed_CM), fmt='g', cmap='YlGnBu', annot=True)\n",
    "axis.xaxis.set_label_position('top')\n",
    "plt.tight_layout()\n",
    "plt.title('Federated LR Confusion Matrix', y=1.1)\n",
    "plt.ylabel('Actual')\n",
    "plt.xlabel('Predicted')\n",
    "\n",
    "# Print the Classification Report\n",
    "print(classification_report(fed_Y_test, fed_Y_pred))"
   ]
  },
  {
   "cell_type": "code",
   "execution_count": 16,
   "id": "e05e02c9-d4f2-4bff-a885-ce464ef89fe1",
   "metadata": {},
   "outputs": [
    {
     "data": {
      "image/png": "[encoded data removed]",
      "text/plain": [
       "<Figure size 640x480 with 1 Axes>"
      ]
     },
     "metadata": {},
     "output_type": "display_data"
    }
   ],
   "source": [
    "# Print the ROC and AUC score\n",
    "fed_Y_prob = fedModel_GLOBAL_LR.predict_proba(fed_X_test)[::,1]\n",
    "fed_n_pred, fed_p_pred, _ = metrics.roc_curve(fed_Y_test, fed_Y_prob)\n",
    "fed_auc = metrics.roc_auc_score(fed_Y_test, fed_Y_prob)\n",
    "plt.plot(fed_n_pred, fed_p_pred, label=\"auc=\"+str(fed_auc))\n",
    "plt.title('ROC Curve (Federated Learning)', y=1.1)\n",
    "plt.ylabel('True Positive Rate')\n",
    "plt.xlabel('False Positive Rate')\n",
    "plt.legend(loc=4)\n",
    "plt.show()"
   ]
  },
  {
   "cell_type": "markdown",
   "id": "c2d356c4-ed0b-47a9-842f-47bed90c628d",
   "metadata": {
    "tags": []
   },
   "source": [
    "### Unbalanced Implementation\n",
    "#### Data Processing\n",
    "To simulate a more realistic scenario where client devices hold an unbalanced distribution of data, data is unevenly divided into 8 subsets at random. 8 individual models will be trained exclusively on their respective subsets, just like the previous experiment. The only change is that some clients hold much more data than others."
   ]
  },
  {
   "cell_type": "code",
   "execution_count": 33,
   "id": "af805fc7-54bd-4874-8996-ab78f3314a83",
   "metadata": {
    "tags": []
   },
   "outputs": [],
   "source": [
    "import math\n",
    "# Read in the data to a new datafram\n",
    "ufed_train_df = pd.read_csv('diabetes_prediction_dataset_train.csv')\n",
    "\n",
    "# Randomly shuffle the samples in the dataframe\n",
    "ufed_train_shuffled_df = ufed_train_df.sample(frac=1)\n",
    "client_set_df = ufed_train_shuffled_df\n",
    "\n",
    "# Dirichlet Distribution to generate list of random numbers summing to 1\n",
    "d_dist = np.random.dirichlet(np.ones(n_clients), size=1)\n",
    "\n",
    "for i in range(n_clients):\n",
    "    # multiply random number by number of samples to get size of dataset\n",
    "    n = math.floor(d_dist[0][i] * ufed_train_df.shape[0])\n",
    "    \n",
    "    # randomly sample n rows from the shuffled data\n",
    "    client_df = client_set_df.sample(n=n, replace=False, random_state=1)\n",
    "    client_set_df.drop(client_df.index, inplace=True)\n",
    "    \n",
    "    # if some samples remain, add them to the last client's dataset\n",
    "    if i == n_clients-1 and client_set_df.shape[0] > 0:\n",
    "        client_df = pd.concat([client_df, client_set_df])\n",
    "        \n",
    "    # Save each fraction to a new csv file\n",
    "    client_df.to_csv('diabetes_prediction_dataset_UNBALANCED_CLIENT_' + str(i) + '.csv', index=False)"
   ]
  },
  {
   "cell_type": "code",
   "execution_count": 34,
   "id": "d00fd55d-680b-4e77-8291-0bbb3dee9416",
   "metadata": {
    "tags": []
   },
   "outputs": [],
   "source": [
    "# Data Preparation, get training data, isolate into predictors and response columns\n",
    "ufed_train = []  # An array of pd.DataFrames; each dataframe will store predictors and response columns for a respective client\n",
    "ufed_X_train = []  # An array of pd.DataFrames; each dataframe will store only predictors columns for a respective client \n",
    "ufed_Y_train = []  # An array of pd.DataFrames; each dataframe will store only the response column for a respective client\n",
    "for i in range(n_clients):\n",
    "    ufed_train.append(pd.read_csv('diabetes_prediction_dataset_UNBALANCED_CLIENT_' + str(i) + '.csv'))\n",
    "    ufed_X_train.append(ufed_train[i].loc[:, ufed_train[i].columns != 'diabetes'].to_numpy())\n",
    "    ufed_Y_train.append(ufed_train[i].loc[:, ufed_train[i].columns == 'diabetes'].to_numpy().ravel())\n",
    "    \n",
    "    # Confirm shape should be cent_train: (n, 16), X_train: (n, 15), and Y_train (n,) where n is ~90000\n",
    "    #print('Size:\\n\\tfed_train[{}]:\\t{}\\n\\tfed_X_train[{}]:\\t{}\\n\\tfed_Y_train[{}]:\\t{}'.format(i, fed_train[i].shape, i, fed_X_train[i].shape, i, fed_Y_train[i].shape))"
   ]
  },
  {
   "cell_type": "markdown",
   "id": "4ac6e06a-f372-415a-95e1-b7f813fe1576",
   "metadata": {},
   "source": [
    "#### Model Definition and Training\n",
    "In the federated setting, we define 8 logistic regression models with the same parameters as in the above centralized and federated implementations. An aggregation function will occur at regular intervals after 10 epochs of client training. Training will occur for a maximum of 30 federated learning cycles (for a total of 300 client training epochs)."
   ]
  },
  {
   "cell_type": "code",
   "execution_count": 35,
   "id": "99665236-aaf4-4718-8a0c-c8321a7c70b0",
   "metadata": {
    "tags": []
   },
   "outputs": [],
   "source": [
    "# Define Models\n",
    "# Define an array of models each representing a single client\n",
    "ufedModels_LR = []\n",
    "for i in range(n_clients):\n",
    "    ufedModels_LR.append(LogisticRegressionCV(cv=10, solver='sag', max_iter=10, random_state=random_state, penalty='l2', n_jobs=10, verbose=0))  # set verbose=1 to view output"
   ]
  },
  {
   "cell_type": "code",
   "execution_count": 36,
   "id": "047e67cc-68b7-439d-80be-2d93072c0dbf",
   "metadata": {
    "tags": []
   },
   "outputs": [
    {
     "data": {
      "application/vnd.jupyter.widget-view+json": {
       "model_id": "69d75b1b9d7e417a9fc01462688c3960",
       "version_major": 2,
       "version_minor": 0
      },
      "text/plain": [
       "Training...:   0%|          | 0/30 [00:00<?, ?it/s]"
      ]
     },
     "metadata": {},
     "output_type": "display_data"
    },
    {
     "data": {
      "application/vnd.jupyter.widget-view+json": {
       "model_id": "",
       "version_major": 2,
       "version_minor": 0
      },
      "text/plain": [
       "Client:   0%|          | 0/75 [00:00<?, ?it/s]"
      ]
     },
     "metadata": {},
     "output_type": "display_data"
    },
    {
     "data": {
      "application/vnd.jupyter.widget-view+json": {
       "model_id": "",
       "version_major": 2,
       "version_minor": 0
      },
      "text/plain": [
       "Client:   0%|          | 0/75 [00:00<?, ?it/s]"
      ]
     },
     "metadata": {},
     "output_type": "display_data"
    },
    {
     "data": {
      "application/vnd.jupyter.widget-view+json": {
       "model_id": "",
       "version_major": 2,
       "version_minor": 0
      },
      "text/plain": [
       "Client:   0%|          | 0/75 [00:00<?, ?it/s]"
      ]
     },
     "metadata": {},
     "output_type": "display_data"
    },
    {
     "data": {
      "application/vnd.jupyter.widget-view+json": {
       "model_id": "",
       "version_major": 2,
       "version_minor": 0
      },
      "text/plain": [
       "Client:   0%|          | 0/75 [00:00<?, ?it/s]"
      ]
     },
     "metadata": {},
     "output_type": "display_data"
    },
    {
     "data": {
      "application/vnd.jupyter.widget-view+json": {
       "model_id": "",
       "version_major": 2,
       "version_minor": 0
      },
      "text/plain": [
       "Client:   0%|          | 0/75 [00:00<?, ?it/s]"
      ]
     },
     "metadata": {},
     "output_type": "display_data"
    },
    {
     "data": {
      "application/vnd.jupyter.widget-view+json": {
       "model_id": "",
       "version_major": 2,
       "version_minor": 0
      },
      "text/plain": [
       "Client:   0%|          | 0/75 [00:00<?, ?it/s]"
      ]
     },
     "metadata": {},
     "output_type": "display_data"
    },
    {
     "data": {
      "application/vnd.jupyter.widget-view+json": {
       "model_id": "",
       "version_major": 2,
       "version_minor": 0
      },
      "text/plain": [
       "Client:   0%|          | 0/75 [00:00<?, ?it/s]"
      ]
     },
     "metadata": {},
     "output_type": "display_data"
    },
    {
     "data": {
      "application/vnd.jupyter.widget-view+json": {
       "model_id": "",
       "version_major": 2,
       "version_minor": 0
      },
      "text/plain": [
       "Client:   0%|          | 0/75 [00:00<?, ?it/s]"
      ]
     },
     "metadata": {},
     "output_type": "display_data"
    },
    {
     "data": {
      "application/vnd.jupyter.widget-view+json": {
       "model_id": "",
       "version_major": 2,
       "version_minor": 0
      },
      "text/plain": [
       "Client:   0%|          | 0/75 [00:00<?, ?it/s]"
      ]
     },
     "metadata": {},
     "output_type": "display_data"
    },
    {
     "data": {
      "application/vnd.jupyter.widget-view+json": {
       "model_id": "",
       "version_major": 2,
       "version_minor": 0
      },
      "text/plain": [
       "Client:   0%|          | 0/75 [00:00<?, ?it/s]"
      ]
     },
     "metadata": {},
     "output_type": "display_data"
    },
    {
     "data": {
      "application/vnd.jupyter.widget-view+json": {
       "model_id": "",
       "version_major": 2,
       "version_minor": 0
      },
      "text/plain": [
       "Client:   0%|          | 0/75 [00:00<?, ?it/s]"
      ]
     },
     "metadata": {},
     "output_type": "display_data"
    },
    {
     "data": {
      "application/vnd.jupyter.widget-view+json": {
       "model_id": "",
       "version_major": 2,
       "version_minor": 0
      },
      "text/plain": [
       "Client:   0%|          | 0/75 [00:00<?, ?it/s]"
      ]
     },
     "metadata": {},
     "output_type": "display_data"
    },
    {
     "data": {
      "application/vnd.jupyter.widget-view+json": {
       "model_id": "",
       "version_major": 2,
       "version_minor": 0
      },
      "text/plain": [
       "Client:   0%|          | 0/75 [00:00<?, ?it/s]"
      ]
     },
     "metadata": {},
     "output_type": "display_data"
    },
    {
     "data": {
      "application/vnd.jupyter.widget-view+json": {
       "model_id": "",
       "version_major": 2,
       "version_minor": 0
      },
      "text/plain": [
       "Client:   0%|          | 0/75 [00:00<?, ?it/s]"
      ]
     },
     "metadata": {},
     "output_type": "display_data"
    },
    {
     "data": {
      "application/vnd.jupyter.widget-view+json": {
       "model_id": "",
       "version_major": 2,
       "version_minor": 0
      },
      "text/plain": [
       "Client:   0%|          | 0/75 [00:00<?, ?it/s]"
      ]
     },
     "metadata": {},
     "output_type": "display_data"
    },
    {
     "data": {
      "application/vnd.jupyter.widget-view+json": {
       "model_id": "",
       "version_major": 2,
       "version_minor": 0
      },
      "text/plain": [
       "Client:   0%|          | 0/75 [00:00<?, ?it/s]"
      ]
     },
     "metadata": {},
     "output_type": "display_data"
    },
    {
     "data": {
      "application/vnd.jupyter.widget-view+json": {
       "model_id": "",
       "version_major": 2,
       "version_minor": 0
      },
      "text/plain": [
       "Client:   0%|          | 0/75 [00:00<?, ?it/s]"
      ]
     },
     "metadata": {},
     "output_type": "display_data"
    },
    {
     "data": {
      "application/vnd.jupyter.widget-view+json": {
       "model_id": "",
       "version_major": 2,
       "version_minor": 0
      },
      "text/plain": [
       "Client:   0%|          | 0/75 [00:00<?, ?it/s]"
      ]
     },
     "metadata": {},
     "output_type": "display_data"
    },
    {
     "data": {
      "application/vnd.jupyter.widget-view+json": {
       "model_id": "",
       "version_major": 2,
       "version_minor": 0
      },
      "text/plain": [
       "Client:   0%|          | 0/75 [00:00<?, ?it/s]"
      ]
     },
     "metadata": {},
     "output_type": "display_data"
    },
    {
     "data": {
      "application/vnd.jupyter.widget-view+json": {
       "model_id": "",
       "version_major": 2,
       "version_minor": 0
      },
      "text/plain": [
       "Client:   0%|          | 0/75 [00:00<?, ?it/s]"
      ]
     },
     "metadata": {},
     "output_type": "display_data"
    },
    {
     "data": {
      "application/vnd.jupyter.widget-view+json": {
       "model_id": "",
       "version_major": 2,
       "version_minor": 0
      },
      "text/plain": [
       "Client:   0%|          | 0/75 [00:00<?, ?it/s]"
      ]
     },
     "metadata": {},
     "output_type": "display_data"
    },
    {
     "data": {
      "application/vnd.jupyter.widget-view+json": {
       "model_id": "",
       "version_major": 2,
       "version_minor": 0
      },
      "text/plain": [
       "Client:   0%|          | 0/75 [00:00<?, ?it/s]"
      ]
     },
     "metadata": {},
     "output_type": "display_data"
    },
    {
     "data": {
      "application/vnd.jupyter.widget-view+json": {
       "model_id": "",
       "version_major": 2,
       "version_minor": 0
      },
      "text/plain": [
       "Client:   0%|          | 0/75 [00:00<?, ?it/s]"
      ]
     },
     "metadata": {},
     "output_type": "display_data"
    },
    {
     "data": {
      "application/vnd.jupyter.widget-view+json": {
       "model_id": "",
       "version_major": 2,
       "version_minor": 0
      },
      "text/plain": [
       "Client:   0%|          | 0/75 [00:00<?, ?it/s]"
      ]
     },
     "metadata": {},
     "output_type": "display_data"
    },
    {
     "data": {
      "application/vnd.jupyter.widget-view+json": {
       "model_id": "",
       "version_major": 2,
       "version_minor": 0
      },
      "text/plain": [
       "Client:   0%|          | 0/75 [00:00<?, ?it/s]"
      ]
     },
     "metadata": {},
     "output_type": "display_data"
    },
    {
     "data": {
      "application/vnd.jupyter.widget-view+json": {
       "model_id": "",
       "version_major": 2,
       "version_minor": 0
      },
      "text/plain": [
       "Client:   0%|          | 0/75 [00:00<?, ?it/s]"
      ]
     },
     "metadata": {},
     "output_type": "display_data"
    },
    {
     "data": {
      "application/vnd.jupyter.widget-view+json": {
       "model_id": "",
       "version_major": 2,
       "version_minor": 0
      },
      "text/plain": [
       "Client:   0%|          | 0/75 [00:00<?, ?it/s]"
      ]
     },
     "metadata": {},
     "output_type": "display_data"
    },
    {
     "data": {
      "application/vnd.jupyter.widget-view+json": {
       "model_id": "",
       "version_major": 2,
       "version_minor": 0
      },
      "text/plain": [
       "Client:   0%|          | 0/75 [00:00<?, ?it/s]"
      ]
     },
     "metadata": {},
     "output_type": "display_data"
    },
    {
     "data": {
      "application/vnd.jupyter.widget-view+json": {
       "model_id": "",
       "version_major": 2,
       "version_minor": 0
      },
      "text/plain": [
       "Client:   0%|          | 0/75 [00:00<?, ?it/s]"
      ]
     },
     "metadata": {},
     "output_type": "display_data"
    },
    {
     "data": {
      "application/vnd.jupyter.widget-view+json": {
       "model_id": "",
       "version_major": 2,
       "version_minor": 0
      },
      "text/plain": [
       "Client:   0%|          | 0/75 [00:00<?, ?it/s]"
      ]
     },
     "metadata": {},
     "output_type": "display_data"
    }
   ],
   "source": [
    "# Training\n",
    "# Note:  Because the individual models fail to converge initially, the ConvergenceWarning generated by sklearn's fit() function is surpressed in the output cell below.\n",
    "#        For this reason, the training code is wrapped in `with warnings.catch_warnings():....`\n",
    "import warnings\n",
    "from tqdm import tqdm_notebook\n",
    "\n",
    "# Define the Global Model (it is not trained directly)\n",
    "ufedModel_GLOBAL_LR = LogisticRegressionCV(cv=10, solver='sag', max_iter=300, random_state=random_state, penalty='l2', n_jobs=10, verbose=0)\n",
    "\n",
    "with warnings.catch_warnings():\n",
    "    warnings.simplefilter('ignore')\n",
    "    \n",
    "    # SERVER: 30 Federated Learning Cycles\n",
    "    for i in tqdm_notebook(range(30), desc='Training...'):\n",
    "        # Generate and array of updates\n",
    "        updates = []\n",
    "        # CLIENT: Each Client trains on it's own data for 100 epochs\n",
    "        for j in tqdm_notebook(range(n_clients), desc='Client', leave=False):\n",
    "            ufedModels_LR[j].fit(ufed_X_train[j], ufed_Y_train[j])\n",
    "            # Generate model update with model parameters\n",
    "            updates.append(ModelUpdate(coef_=ufedModels_LR[j].coef_,\n",
    "                                       intercept_=ufedModels_LR[j].intercept_,\n",
    "                                       C_=ufedModels_LR[j].C_)\n",
    "                          )\n",
    "        \n",
    "        # Aggregate client updates and generate global model\n",
    "        global_update = FedAVG(updates)\n",
    "        \n",
    "        # Update the global model\n",
    "        ufedModel_GLOBAL_LR.coef_ = global_update.coef_\n",
    "        ufedModel_GLOBAL_LR.intercept_ = global_update.intercept_\n",
    "        ufedModel_GLOBAL_LR.C_ = global_update.C_\n",
    "        ufedModel_GLOBAL_LR.classes_ = ufedModels_LR[0].classes_\n",
    "            \n",
    "        # Update client local models before beginning next round of federated learning\n",
    "        for client in ufedModels_LR:\n",
    "            client.coef_ = global_update.coef_\n",
    "            client.intercept_ = global_update.intercept_\n",
    "            client.C_ = global_update.C_\n",
    "    "
   ]
  },
  {
   "cell_type": "markdown",
   "id": "ea65e93a-f6f7-4509-b9c4-fc0cdd490afe",
   "metadata": {},
   "source": [
    "#### Unbalanced Federated Model Brief Evaluation"
   ]
  },
  {
   "cell_type": "code",
   "execution_count": 37,
   "id": "07345bc7-3f08-4bf8-8ebb-d19aa6673a7d",
   "metadata": {},
   "outputs": [],
   "source": [
    "# Load the same test data as the centralized experiment\n",
    "ufed_test = pd.read_csv('diabetes_prediction_dataset_test.csv')\n",
    "ufed_X_test = ufed_test.loc[:, ufed_test.columns != 'diabetes'].to_numpy()\n",
    "ufed_Y_test = ufed_test.loc[:, ufed_test.columns == 'diabetes'].to_numpy().ravel()\n",
    "ufed_Y_pred = ufedModel_GLOBAL_LR.predict(ufed_X_test)"
   ]
  },
  {
   "cell_type": "code",
   "execution_count": 38,
   "id": "4f958bde-9828-486a-bc55-76e2bd3c6caa",
   "metadata": {},
   "outputs": [
    {
     "name": "stdout",
     "output_type": "stream",
     "text": [
      "              precision    recall  f1-score   support\n",
      "\n",
      "         0.0       0.96      1.00      0.98      9119\n",
      "         1.0       0.93      0.58      0.72       882\n",
      "\n",
      "    accuracy                           0.96     10001\n",
      "   macro avg       0.94      0.79      0.85     10001\n",
      "weighted avg       0.96      0.96      0.96     10001\n",
      "\n"
     ]
    },
    {
     "data": {
      "image/png": "[encoded data removed]",
      "text/plain": [
       "<Figure size 640x480 with 2 Axes>"
      ]
     },
     "metadata": {},
     "output_type": "display_data"
    }
   ],
   "source": [
    "# Print the confusion matrix\n",
    "ufed_CM = metrics.confusion_matrix(ufed_Y_test, ufed_Y_pred)\n",
    "classes = ['Negative', 'Positive']\n",
    "_, ufed_axis = plt.subplots()\n",
    "plt.xticks(np.arange(len(classes)), classes)\n",
    "plt.yticks(np.arange(len(classes)), classes)\n",
    "sns.heatmap(pd.DataFrame(ufed_CM), fmt='g', cmap='YlGnBu', annot=True)\n",
    "axis.xaxis.set_label_position('top')\n",
    "plt.tight_layout()\n",
    "plt.title('Unbalanced Federated LR Confusion Matrix', y=1.1)\n",
    "plt.ylabel('Actual')\n",
    "plt.xlabel('Predicted')\n",
    "\n",
    "# Print the Classification Report\n",
    "print(classification_report(ufed_Y_test, ufed_Y_pred))"
   ]
  },
  {
   "cell_type": "code",
   "execution_count": 39,
   "id": "3fde02c8-6045-4e5a-80f7-5130461eab39",
   "metadata": {},
   "outputs": [
    {
     "data": {
      "image/png": "[encoded data removed]",
      "text/plain": [
       "<Figure size 640x480 with 1 Axes>"
      ]
     },
     "metadata": {},
     "output_type": "display_data"
    }
   ],
   "source": [
    "# Print the ROC and AUC score\n",
    "ufed_Y_prob = ufedModel_GLOBAL_LR.predict_proba(ufed_X_test)[::,1]\n",
    "ufed_n_pred, ufed_p_pred, _ = metrics.roc_curve(ufed_Y_test, ufed_Y_prob)\n",
    "ufed_auc = metrics.roc_auc_score(ufed_Y_test, ufed_Y_prob)\n",
    "plt.plot(ufed_n_pred, ufed_p_pred, label=\"auc=\"+str(ufed_auc))\n",
    "plt.title('ROC Curve (Unbalanced Federated Learning)', y=1.1)\n",
    "plt.ylabel('True Positive Rate')\n",
    "plt.xlabel('False Positive Rate')\n",
    "plt.legend(loc=4)\n",
    "plt.show()"
   ]
  },
  {
   "cell_type": "code",
   "execution_count": 40,
   "id": "2389133b-08e2-4cd0-a4a1-99ea6aecb0d6",
   "metadata": {},
   "outputs": [
    {
     "name": "stdout",
     "output_type": "stream",
     "text": [
      "(39, 15)\n",
      "(1170, 15)\n",
      "(1112, 15)\n",
      "(386, 15)\n",
      "(1622, 15)\n",
      "(2402, 15)\n",
      "(2585, 15)\n",
      "(2423, 15)\n",
      "(1204, 15)\n",
      "(354, 15)\n",
      "(651, 15)\n",
      "(2386, 15)\n",
      "(1584, 15)\n",
      "(21, 15)\n",
      "(88, 15)\n",
      "(1710, 15)\n",
      "(52, 15)\n",
      "(2690, 15)\n",
      "(732, 15)\n",
      "(4361, 15)\n",
      "(969, 15)\n",
      "(519, 15)\n",
      "(2320, 15)\n",
      "(1421, 15)\n",
      "(187, 15)\n",
      "(4532, 15)\n",
      "(1762, 15)\n",
      "(203, 15)\n",
      "(156, 15)\n",
      "(2707, 15)\n",
      "(851, 15)\n",
      "(2373, 15)\n",
      "(1127, 15)\n",
      "(306, 15)\n",
      "(125, 15)\n",
      "(2002, 15)\n",
      "(477, 15)\n",
      "(252, 15)\n",
      "(2864, 15)\n",
      "(260, 15)\n",
      "(1521, 15)\n",
      "(375, 15)\n",
      "(435, 15)\n",
      "(338, 15)\n",
      "(296, 15)\n",
      "(429, 15)\n",
      "(2320, 15)\n",
      "(45, 15)\n",
      "(2795, 15)\n",
      "(228, 15)\n",
      "(666, 15)\n",
      "(170, 15)\n",
      "(1648, 15)\n",
      "(2535, 15)\n",
      "(23, 15)\n",
      "(181, 15)\n",
      "(1117, 15)\n",
      "(62, 15)\n",
      "(781, 15)\n",
      "(140, 15)\n",
      "(202, 15)\n",
      "(237, 15)\n",
      "(953, 15)\n",
      "(1122, 15)\n",
      "(3028, 15)\n",
      "(803, 15)\n",
      "(2498, 15)\n",
      "(180, 15)\n",
      "(1757, 15)\n",
      "(2155, 15)\n",
      "(377, 15)\n",
      "(2349, 15)\n",
      "(794, 15)\n",
      "(1395, 15)\n",
      "(3059, 15)\n"
     ]
    }
   ],
   "source": [
    "for dataset in ufed_X_train:\n",
    "    print(dataset.shape)"
   ]
  },
  {
   "cell_type": "markdown",
   "id": "ea92d872-831f-444d-83c0-98bbbf737e09",
   "metadata": {
    "tags": []
   },
   "source": [
    "### Unbalanced Implementation with Client Downtime\n",
    "#### Data Processing\n",
    "In a realworld implementation, we can expect that many clients may only have intermitent or low-bandwidth connections to the server in addition to an unbalanced distribution of data. In this final experiment data is unevenly divided into 8 subsets at random. As with previous experiments, 8 individual models will be trained exclusively on their respective subsets. In addition to unbalanced data distributions, we simulate intermitent communication with the server by leaving some models out of the aggregation step. In this scenario, we propose that clients are available 80% of the time while the other 20% they are experiencing downtime. It is important to note that the downtime means the client neither contributes to aggregation nor receives a global model update. Models continue <i>local model</i> training regardless of downtime.\n",
    "\n",
    "To maintain consistency with the previous experiment, we use the same unablanced data distribution."
   ]
  },
  {
   "cell_type": "code",
   "execution_count": 41,
   "id": "a00dde74-b209-4b30-81c6-885a9481efae",
   "metadata": {
    "tags": []
   },
   "outputs": [],
   "source": [
    "# Data Preparation, use same training data and data distribution as the previous experiment\n",
    "udfed_train = []  # An array of pd.DataFrames; each dataframe will store predictors and response columns for a respective client\n",
    "udfed_X_train = []  # An array of pd.DataFrames; each dataframe will store only predictors columns for a respective client \n",
    "udfed_Y_train = []  # An array of pd.DataFrames; each dataframe will store only the response column for a respective client\n",
    "    \n",
    "# Confirm shape should be cent_train: (n, 16), X_train: (n, 15), and Y_train (n,) where n is ~90000\n",
    "for i in range(n_clients):\n",
    "    udfed_train.append(pd.read_csv('diabetes_prediction_dataset_UNBALANCED_CLIENT_' + str(i) + '.csv'))\n",
    "    udfed_X_train.append(udfed_train[i].loc[:, udfed_train[i].columns != 'diabetes'].to_numpy())\n",
    "    udfed_Y_train.append(udfed_train[i].loc[:, udfed_train[i].columns == 'diabetes'].to_numpy().ravel())\n",
    "    #print('Size:\\n\\tfed_train[{}]:\\t{}\\n\\tfed_X_train[{}]:\\t{}\\n\\tfed_Y_train[{}]:\\t{}'.format(i, udfed_train[i].shape, i, udfed_X_train[i].shape, i, udfed_Y_train[i].shape))"
   ]
  },
  {
   "cell_type": "markdown",
   "id": "cea9e51b-6881-47fb-9969-1e1a69ef106e",
   "metadata": {},
   "source": [
    "#### Model Definition and Training\n",
    "In the federated setting, we define 8 logistic regression models with the same parameters as in the above centralized and federated implementations. An aggregation function will occur at regular intervals after 10 epochs of client training. Training will occur for a maximum of 30 federated learning cycles (for a total of 300 client training epochs)."
   ]
  },
  {
   "cell_type": "code",
   "execution_count": 42,
   "id": "0cf18318-82b0-4dc0-bcc1-551bc56a028e",
   "metadata": {
    "tags": []
   },
   "outputs": [],
   "source": [
    "# Define Models\n",
    "# Define an array of models each representing a single client\n",
    "udfedModels_LR = []\n",
    "for i in range(n_clients):\n",
    "    udfedModels_LR.append(LogisticRegressionCV(cv=10, solver='sag', max_iter=10, random_state=random_state, penalty='l2', n_jobs=10, verbose=0))  # set verbose=1 to view output"
   ]
  },
  {
   "cell_type": "code",
   "execution_count": 43,
   "id": "c0c73c0a-2beb-4eba-b919-5caf8380f6de",
   "metadata": {
    "tags": []
   },
   "outputs": [
    {
     "data": {
      "application/vnd.jupyter.widget-view+json": {
       "model_id": "28b707ef5d244b5ea65cabd4a30b1547",
       "version_major": 2,
       "version_minor": 0
      },
      "text/plain": [
       "Training...:   0%|          | 0/30 [00:00<?, ?it/s]"
      ]
     },
     "metadata": {},
     "output_type": "display_data"
    },
    {
     "data": {
      "application/vnd.jupyter.widget-view+json": {
       "model_id": "",
       "version_major": 2,
       "version_minor": 0
      },
      "text/plain": [
       "Client:   0%|          | 0/75 [00:00<?, ?it/s]"
      ]
     },
     "metadata": {},
     "output_type": "display_data"
    },
    {
     "data": {
      "application/vnd.jupyter.widget-view+json": {
       "model_id": "",
       "version_major": 2,
       "version_minor": 0
      },
      "text/plain": [
       "Client:   0%|          | 0/75 [00:00<?, ?it/s]"
      ]
     },
     "metadata": {},
     "output_type": "display_data"
    },
    {
     "data": {
      "application/vnd.jupyter.widget-view+json": {
       "model_id": "",
       "version_major": 2,
       "version_minor": 0
      },
      "text/plain": [
       "Client:   0%|          | 0/75 [00:00<?, ?it/s]"
      ]
     },
     "metadata": {},
     "output_type": "display_data"
    },
    {
     "data": {
      "application/vnd.jupyter.widget-view+json": {
       "model_id": "",
       "version_major": 2,
       "version_minor": 0
      },
      "text/plain": [
       "Client:   0%|          | 0/75 [00:00<?, ?it/s]"
      ]
     },
     "metadata": {},
     "output_type": "display_data"
    },
    {
     "data": {
      "application/vnd.jupyter.widget-view+json": {
       "model_id": "",
       "version_major": 2,
       "version_minor": 0
      },
      "text/plain": [
       "Client:   0%|          | 0/75 [00:00<?, ?it/s]"
      ]
     },
     "metadata": {},
     "output_type": "display_data"
    },
    {
     "data": {
      "application/vnd.jupyter.widget-view+json": {
       "model_id": "",
       "version_major": 2,
       "version_minor": 0
      },
      "text/plain": [
       "Client:   0%|          | 0/75 [00:00<?, ?it/s]"
      ]
     },
     "metadata": {},
     "output_type": "display_data"
    },
    {
     "data": {
      "application/vnd.jupyter.widget-view+json": {
       "model_id": "",
       "version_major": 2,
       "version_minor": 0
      },
      "text/plain": [
       "Client:   0%|          | 0/75 [00:00<?, ?it/s]"
      ]
     },
     "metadata": {},
     "output_type": "display_data"
    },
    {
     "data": {
      "application/vnd.jupyter.widget-view+json": {
       "model_id": "",
       "version_major": 2,
       "version_minor": 0
      },
      "text/plain": [
       "Client:   0%|          | 0/75 [00:00<?, ?it/s]"
      ]
     },
     "metadata": {},
     "output_type": "display_data"
    },
    {
     "data": {
      "application/vnd.jupyter.widget-view+json": {
       "model_id": "",
       "version_major": 2,
       "version_minor": 0
      },
      "text/plain": [
       "Client:   0%|          | 0/75 [00:00<?, ?it/s]"
      ]
     },
     "metadata": {},
     "output_type": "display_data"
    },
    {
     "data": {
      "application/vnd.jupyter.widget-view+json": {
       "model_id": "",
       "version_major": 2,
       "version_minor": 0
      },
      "text/plain": [
       "Client:   0%|          | 0/75 [00:00<?, ?it/s]"
      ]
     },
     "metadata": {},
     "output_type": "display_data"
    },
    {
     "data": {
      "application/vnd.jupyter.widget-view+json": {
       "model_id": "",
       "version_major": 2,
       "version_minor": 0
      },
      "text/plain": [
       "Client:   0%|          | 0/75 [00:00<?, ?it/s]"
      ]
     },
     "metadata": {},
     "output_type": "display_data"
    },
    {
     "data": {
      "application/vnd.jupyter.widget-view+json": {
       "model_id": "",
       "version_major": 2,
       "version_minor": 0
      },
      "text/plain": [
       "Client:   0%|          | 0/75 [00:00<?, ?it/s]"
      ]
     },
     "metadata": {},
     "output_type": "display_data"
    },
    {
     "data": {
      "application/vnd.jupyter.widget-view+json": {
       "model_id": "",
       "version_major": 2,
       "version_minor": 0
      },
      "text/plain": [
       "Client:   0%|          | 0/75 [00:00<?, ?it/s]"
      ]
     },
     "metadata": {},
     "output_type": "display_data"
    },
    {
     "data": {
      "application/vnd.jupyter.widget-view+json": {
       "model_id": "",
       "version_major": 2,
       "version_minor": 0
      },
      "text/plain": [
       "Client:   0%|          | 0/75 [00:00<?, ?it/s]"
      ]
     },
     "metadata": {},
     "output_type": "display_data"
    },
    {
     "data": {
      "application/vnd.jupyter.widget-view+json": {
       "model_id": "",
       "version_major": 2,
       "version_minor": 0
      },
      "text/plain": [
       "Client:   0%|          | 0/75 [00:00<?, ?it/s]"
      ]
     },
     "metadata": {},
     "output_type": "display_data"
    },
    {
     "data": {
      "application/vnd.jupyter.widget-view+json": {
       "model_id": "",
       "version_major": 2,
       "version_minor": 0
      },
      "text/plain": [
       "Client:   0%|          | 0/75 [00:00<?, ?it/s]"
      ]
     },
     "metadata": {},
     "output_type": "display_data"
    },
    {
     "data": {
      "application/vnd.jupyter.widget-view+json": {
       "model_id": "",
       "version_major": 2,
       "version_minor": 0
      },
      "text/plain": [
       "Client:   0%|          | 0/75 [00:00<?, ?it/s]"
      ]
     },
     "metadata": {},
     "output_type": "display_data"
    },
    {
     "data": {
      "application/vnd.jupyter.widget-view+json": {
       "model_id": "",
       "version_major": 2,
       "version_minor": 0
      },
      "text/plain": [
       "Client:   0%|          | 0/75 [00:00<?, ?it/s]"
      ]
     },
     "metadata": {},
     "output_type": "display_data"
    },
    {
     "data": {
      "application/vnd.jupyter.widget-view+json": {
       "model_id": "",
       "version_major": 2,
       "version_minor": 0
      },
      "text/plain": [
       "Client:   0%|          | 0/75 [00:00<?, ?it/s]"
      ]
     },
     "metadata": {},
     "output_type": "display_data"
    },
    {
     "data": {
      "application/vnd.jupyter.widget-view+json": {
       "model_id": "",
       "version_major": 2,
       "version_minor": 0
      },
      "text/plain": [
       "Client:   0%|          | 0/75 [00:00<?, ?it/s]"
      ]
     },
     "metadata": {},
     "output_type": "display_data"
    },
    {
     "data": {
      "application/vnd.jupyter.widget-view+json": {
       "model_id": "",
       "version_major": 2,
       "version_minor": 0
      },
      "text/plain": [
       "Client:   0%|          | 0/75 [00:00<?, ?it/s]"
      ]
     },
     "metadata": {},
     "output_type": "display_data"
    },
    {
     "data": {
      "application/vnd.jupyter.widget-view+json": {
       "model_id": "",
       "version_major": 2,
       "version_minor": 0
      },
      "text/plain": [
       "Client:   0%|          | 0/75 [00:00<?, ?it/s]"
      ]
     },
     "metadata": {},
     "output_type": "display_data"
    },
    {
     "data": {
      "application/vnd.jupyter.widget-view+json": {
       "model_id": "",
       "version_major": 2,
       "version_minor": 0
      },
      "text/plain": [
       "Client:   0%|          | 0/75 [00:00<?, ?it/s]"
      ]
     },
     "metadata": {},
     "output_type": "display_data"
    },
    {
     "data": {
      "application/vnd.jupyter.widget-view+json": {
       "model_id": "",
       "version_major": 2,
       "version_minor": 0
      },
      "text/plain": [
       "Client:   0%|          | 0/75 [00:00<?, ?it/s]"
      ]
     },
     "metadata": {},
     "output_type": "display_data"
    },
    {
     "data": {
      "application/vnd.jupyter.widget-view+json": {
       "model_id": "",
       "version_major": 2,
       "version_minor": 0
      },
      "text/plain": [
       "Client:   0%|          | 0/75 [00:00<?, ?it/s]"
      ]
     },
     "metadata": {},
     "output_type": "display_data"
    },
    {
     "data": {
      "application/vnd.jupyter.widget-view+json": {
       "model_id": "",
       "version_major": 2,
       "version_minor": 0
      },
      "text/plain": [
       "Client:   0%|          | 0/75 [00:00<?, ?it/s]"
      ]
     },
     "metadata": {},
     "output_type": "display_data"
    },
    {
     "data": {
      "application/vnd.jupyter.widget-view+json": {
       "model_id": "",
       "version_major": 2,
       "version_minor": 0
      },
      "text/plain": [
       "Client:   0%|          | 0/75 [00:00<?, ?it/s]"
      ]
     },
     "metadata": {},
     "output_type": "display_data"
    },
    {
     "data": {
      "application/vnd.jupyter.widget-view+json": {
       "model_id": "",
       "version_major": 2,
       "version_minor": 0
      },
      "text/plain": [
       "Client:   0%|          | 0/75 [00:00<?, ?it/s]"
      ]
     },
     "metadata": {},
     "output_type": "display_data"
    },
    {
     "data": {
      "application/vnd.jupyter.widget-view+json": {
       "model_id": "",
       "version_major": 2,
       "version_minor": 0
      },
      "text/plain": [
       "Client:   0%|          | 0/75 [00:00<?, ?it/s]"
      ]
     },
     "metadata": {},
     "output_type": "display_data"
    },
    {
     "data": {
      "application/vnd.jupyter.widget-view+json": {
       "model_id": "",
       "version_major": 2,
       "version_minor": 0
      },
      "text/plain": [
       "Client:   0%|          | 0/75 [00:00<?, ?it/s]"
      ]
     },
     "metadata": {},
     "output_type": "display_data"
    }
   ],
   "source": [
    "# Training\n",
    "# Note:  Because the individual models fail to converge iniclient_downtimes ConvergenceWarning generated by sklearn's fit() function is surpressed in the output cell below.\n",
    "#        For this reason, the training code is wrapped in `with warnings.catch_warnings():....`\n",
    "import warnings\n",
    "from tqdm import tqdm_notebook\n",
    "\n",
    "# Probability of not experiening downtime: 40%\n",
    "p = 0.4\n",
    "\n",
    "# Define the Global Model (it is not trained directly)\n",
    "udfedModel_GLOBAL_LR = LogisticRegressionCV(cv=10, solver='sag', max_iter=300, random_state=random_state, penalty='l2', n_jobs=10, verbose=0)\n",
    "\n",
    "# An array to record the number of times each client experiences downtime\n",
    "client_downtimes = [0] * n_clients\n",
    "\n",
    "with warnings.catch_warnings():\n",
    "    warnings.simplefilter('ignore')\n",
    "    \n",
    "    # SERVER: 30 Federated Learning Cycles\n",
    "    for i in tqdm_notebook(range(30), desc='Training...'):\n",
    "        # Generate and array of updates\n",
    "        updates = []\n",
    "        \n",
    "        # List of clients which cannot be updated due to downtime\n",
    "        downtime = []\n",
    "        \n",
    "        # CLIENT: Each Client trains on it's own data for 100 epochs\n",
    "        for j in tqdm_notebook(range(n_clients), desc='Client', leave=False):\n",
    "            udfedModels_LR[j].fit(udfed_X_train[j], udfed_Y_train[j])\n",
    "            # Generate model update with model parameters\n",
    "            # Update is RANDOMLY appended based on probability p = 0.8\n",
    "            if np.random.binomial(1,p) == 1: \n",
    "                updates.append(ModelUpdate(coef_=udfedModels_LR[j].coef_,\n",
    "                                           intercept_=udfedModels_LR[j].intercept_,\n",
    "                                           C_=udfedModels_LR[j].C_)\n",
    "                              )\n",
    "            else:\n",
    "                # Keep track of clients which experienced downtime\n",
    "                downtime.append(j)\n",
    "                client_downtimes[j] += 1\n",
    "                \n",
    "        # Aggregate client updates and generate global model\n",
    "        global_update = FedAVG(updates)\n",
    "        \n",
    "        # Update the global model\n",
    "        udfedModel_GLOBAL_LR.coef_ = global_update.coef_\n",
    "        udfedModel_GLOBAL_LR.intercept_ = global_update.intercept_\n",
    "        udfedModel_GLOBAL_LR.C_ = global_update.C_\n",
    "        udfedModel_GLOBAL_LR.classes_ = ufedModels_LR[0].classes_\n",
    "            \n",
    "        # Update client local models before beginning next round of federated learning IFF they are not experiencing downtime this round\n",
    "        for client in udfedModels_LR:\n",
    "            if udfedModels_LR.index(client) not in downtime:\n",
    "                client.coef_ = global_update.coef_\n",
    "                client.intercept_ = global_update.intercept_\n",
    "                client.C_ = global_update.C_\n",
    "    "
   ]
  },
  {
   "cell_type": "markdown",
   "id": "0dc5737a-a206-4e67-bec8-4d93acdec5c6",
   "metadata": {},
   "source": [
    "#### Unbalanced Federated Model Brief Evaluation"
   ]
  },
  {
   "cell_type": "code",
   "execution_count": 44,
   "id": "bdfb0642-336c-4596-9679-d10500f08636",
   "metadata": {},
   "outputs": [
    {
     "name": "stdout",
     "output_type": "stream",
     "text": [
      "CLIENT DOWNTIME\n",
      "Client 0: 13 times\n",
      "Client 1: 16 times\n",
      "Client 2: 14 times\n",
      "Client 3: 19 times\n",
      "Client 4: 22 times\n",
      "Client 5: 17 times\n",
      "Client 6: 16 times\n",
      "Client 7: 21 times\n",
      "Client 8: 16 times\n",
      "Client 9: 18 times\n",
      "Client 10: 18 times\n",
      "Client 11: 16 times\n",
      "Client 12: 20 times\n",
      "Client 13: 21 times\n",
      "Client 14: 16 times\n",
      "Client 15: 19 times\n",
      "Client 16: 18 times\n",
      "Client 17: 20 times\n",
      "Client 18: 22 times\n",
      "Client 19: 16 times\n",
      "Client 20: 17 times\n",
      "Client 21: 19 times\n",
      "Client 22: 21 times\n",
      "Client 23: 15 times\n",
      "Client 24: 15 times\n",
      "Client 25: 17 times\n",
      "Client 26: 17 times\n",
      "Client 27: 13 times\n",
      "Client 28: 17 times\n",
      "Client 29: 13 times\n",
      "Client 30: 10 times\n",
      "Client 31: 17 times\n",
      "Client 32: 20 times\n",
      "Client 33: 11 times\n",
      "Client 34: 18 times\n",
      "Client 35: 19 times\n",
      "Client 36: 19 times\n",
      "Client 37: 20 times\n",
      "Client 38: 13 times\n",
      "Client 39: 14 times\n",
      "Client 40: 20 times\n",
      "Client 41: 18 times\n",
      "Client 42: 17 times\n",
      "Client 43: 14 times\n",
      "Client 44: 20 times\n",
      "Client 45: 22 times\n",
      "Client 46: 19 times\n",
      "Client 47: 22 times\n",
      "Client 48: 21 times\n",
      "Client 49: 22 times\n",
      "Client 50: 17 times\n",
      "Client 51: 21 times\n",
      "Client 52: 17 times\n",
      "Client 53: 23 times\n",
      "Client 54: 19 times\n",
      "Client 55: 21 times\n",
      "Client 56: 12 times\n",
      "Client 57: 19 times\n",
      "Client 58: 19 times\n",
      "Client 59: 17 times\n",
      "Client 60: 16 times\n",
      "Client 61: 15 times\n",
      "Client 62: 17 times\n",
      "Client 63: 17 times\n",
      "Client 64: 18 times\n",
      "Client 65: 17 times\n",
      "Client 66: 17 times\n",
      "Client 67: 8 times\n",
      "Client 68: 18 times\n",
      "Client 69: 20 times\n",
      "Client 70: 15 times\n",
      "Client 71: 16 times\n",
      "Client 72: 21 times\n",
      "Client 73: 24 times\n",
      "Client 74: 18 times\n"
     ]
    }
   ],
   "source": [
    "# Print the number of times each client experienced downtime\n",
    "print(\"CLIENT DOWNTIME\")\n",
    "for i in range(n_clients):\n",
    "    print(\"Client {}: {} times\".format(i, client_downtimes[i]))"
   ]
  },
  {
   "cell_type": "code",
   "execution_count": 45,
   "id": "09229bd6-3715-4085-a87a-414e835d2cd8",
   "metadata": {},
   "outputs": [],
   "source": [
    "# Load the same test data as the centralized experiment\n",
    "udfed_test = pd.read_csv('diabetes_prediction_dataset_test.csv')\n",
    "udfed_X_test = udfed_test.loc[:, udfed_test.columns != 'diabetes'].to_numpy()\n",
    "udfed_Y_test = udfed_test.loc[:, udfed_test.columns == 'diabetes'].to_numpy().ravel()\n",
    "udfed_Y_pred = udfedModel_GLOBAL_LR.predict(udfed_X_test)"
   ]
  },
  {
   "cell_type": "code",
   "execution_count": 46,
   "id": "e6e52277-8e2b-4016-b2cb-5dc8c9f7884d",
   "metadata": {},
   "outputs": [
    {
     "name": "stdout",
     "output_type": "stream",
     "text": [
      "              precision    recall  f1-score   support\n",
      "\n",
      "         0.0       0.96      1.00      0.98      9119\n",
      "         1.0       0.94      0.57      0.71       882\n",
      "\n",
      "    accuracy                           0.96     10001\n",
      "   macro avg       0.95      0.78      0.84     10001\n",
      "weighted avg       0.96      0.96      0.95     10001\n",
      "\n"
     ]
    },
    {
     "data": {
      "image/png": "[encoded data removed]",
      "text/plain": [
       "<Figure size 640x480 with 2 Axes>"
      ]
     },
     "metadata": {},
     "output_type": "display_data"
    }
   ],
   "source": [
    "# Print the confusion matrix\n",
    "udfed_CM = metrics.confusion_matrix(udfed_Y_test, udfed_Y_pred)\n",
    "classes = ['Negative', 'Positive']\n",
    "_, udfed_axis = plt.subplots()\n",
    "plt.xticks(np.arange(len(classes)), classes)\n",
    "plt.yticks(np.arange(len(classes)), classes)\n",
    "sns.heatmap(pd.DataFrame(udfed_CM), fmt='g', cmap='YlGnBu', annot=True)\n",
    "axis.xaxis.set_label_position('top')\n",
    "plt.tight_layout()\n",
    "plt.title('Unbalanced Federated LR w/ Downtime Confusion Matrix', y=1.1)\n",
    "plt.ylabel('Actual')\n",
    "plt.xlabel('Predicted')\n",
    "\n",
    "# Print the Classification Report\n",
    "print(classification_report(udfed_Y_test, udfed_Y_pred))"
   ]
  },
  {
   "cell_type": "code",
   "execution_count": 47,
   "id": "d805bdc8-78d3-429a-aa3b-204bc3dfa5a2",
   "metadata": {},
   "outputs": [
    {
     "data": {
      "image/png": "[encoded data removed]",
      "text/plain": [
       "<Figure size 640x480 with 1 Axes>"
      ]
     },
     "metadata": {},
     "output_type": "display_data"
    }
   ],
   "source": [
    "# Print the ROC and AUC score\n",
    "udfed_Y_prob = udfedModel_GLOBAL_LR.predict_proba(udfed_X_test)[::,1]\n",
    "udfed_n_pred, udfed_p_pred, _ = metrics.roc_curve(udfed_Y_test, udfed_Y_prob)\n",
    "udfed_auc = metrics.roc_auc_score(udfed_Y_test, udfed_Y_prob)\n",
    "plt.plot(udfed_n_pred, udfed_p_pred, label=\"auc=\"+str(udfed_auc))\n",
    "plt.title('ROC Curve (Unbalanced Federated Learning w/ Downtime)', y=1.1)\n",
    "plt.ylabel('True Positive Rate')\n",
    "plt.xlabel('False Positive Rate')\n",
    "plt.legend(loc=4)\n",
    "plt.show()"
   ]
  },
  {
   "cell_type": "code",
   "execution_count": 48,
   "id": "d572ee23-ead5-43f4-9505-4dac07573cd7",
   "metadata": {},
   "outputs": [
    {
     "name": "stdout",
     "output_type": "stream",
     "text": [
      "(39, 15)\n",
      "(1170, 15)\n",
      "(1112, 15)\n",
      "(386, 15)\n",
      "(1622, 15)\n",
      "(2402, 15)\n",
      "(2585, 15)\n",
      "(2423, 15)\n",
      "(1204, 15)\n",
      "(354, 15)\n",
      "(651, 15)\n",
      "(2386, 15)\n",
      "(1584, 15)\n",
      "(21, 15)\n",
      "(88, 15)\n",
      "(1710, 15)\n",
      "(52, 15)\n",
      "(2690, 15)\n",
      "(732, 15)\n",
      "(4361, 15)\n",
      "(969, 15)\n",
      "(519, 15)\n",
      "(2320, 15)\n",
      "(1421, 15)\n",
      "(187, 15)\n",
      "(4532, 15)\n",
      "(1762, 15)\n",
      "(203, 15)\n",
      "(156, 15)\n",
      "(2707, 15)\n",
      "(851, 15)\n",
      "(2373, 15)\n",
      "(1127, 15)\n",
      "(306, 15)\n",
      "(125, 15)\n",
      "(2002, 15)\n",
      "(477, 15)\n",
      "(252, 15)\n",
      "(2864, 15)\n",
      "(260, 15)\n",
      "(1521, 15)\n",
      "(375, 15)\n",
      "(435, 15)\n",
      "(338, 15)\n",
      "(296, 15)\n",
      "(429, 15)\n",
      "(2320, 15)\n",
      "(45, 15)\n",
      "(2795, 15)\n",
      "(228, 15)\n",
      "(666, 15)\n",
      "(170, 15)\n",
      "(1648, 15)\n",
      "(2535, 15)\n",
      "(23, 15)\n",
      "(181, 15)\n",
      "(1117, 15)\n",
      "(62, 15)\n",
      "(781, 15)\n",
      "(140, 15)\n",
      "(202, 15)\n",
      "(237, 15)\n",
      "(953, 15)\n",
      "(1122, 15)\n",
      "(3028, 15)\n",
      "(803, 15)\n",
      "(2498, 15)\n",
      "(180, 15)\n",
      "(1757, 15)\n",
      "(2155, 15)\n",
      "(377, 15)\n",
      "(2349, 15)\n",
      "(794, 15)\n",
      "(1395, 15)\n",
      "(3059, 15)\n"
     ]
    }
   ],
   "source": [
    "for dataset in udfed_X_train:\n",
    "    print(dataset.shape)"
   ]
  },
  {
   "cell_type": "markdown",
   "id": "9e43a5d9-56cd-407f-b1db-237ef962b79d",
   "metadata": {
    "tags": []
   },
   "source": [
    "### Unbalanced Implementation with Client No Local Training During Downtime\n",
    "#### Data Processing\n",
    "In a realworld implementation, we can expect that many clients may only have intermitent or low-bandwidth connections to the server in addition to an unbalanced distribution of data. In this final experiment data is unevenly divided into 8 subsets at random. As with previous experiments, 8 individual models will be trained exclusively on their respective subsets. In addition to unbalanced data distributions, we simulate intermitent communication with the server by leaving some models out of the aggregation step. In this scenario, we propose that clients are available 80% of the time while the other 20% they are experiencing downtime. It is important to note that the downtime means the client neither contributes to aggregation nor receives a global model update. Models continue <i>local model</i> training regardless of downtime.\n",
    "\n",
    "To maintain consistency with the previous experiment, we use the same unablanced data distribution."
   ]
  },
  {
   "cell_type": "code",
   "execution_count": 49,
   "id": "52f98d22-fdd4-4700-bcef-4c3407722aac",
   "metadata": {
    "tags": []
   },
   "outputs": [],
   "source": [
    "# Data Preparation, use same training data and data distribution as the previous experiment\n",
    "uvdfed_train = []  # An array of pd.DataFrames; each dataframe will store predictors and response columns for a respective client\n",
    "uvdfed_X_train = []  # An array of pd.DataFrames; each dataframe will store only predictors columns for a respective client \n",
    "uvdfed_Y_train = []  # An array of pd.DataFrames; each dataframe will store only the response column for a respective client\n",
    "    \n",
    "# Confirm shape should be cent_train: (n, 16), X_train: (n, 15), and Y_train (n,) where n is ~90000\n",
    "for i in range(n_clients):\n",
    "    uvdfed_train.append(pd.read_csv('diabetes_prediction_dataset_UNBALANCED_CLIENT_' + str(i) + '.csv'))\n",
    "    uvdfed_X_train.append(uvdfed_train[i].loc[:, uvdfed_train[i].columns != 'diabetes'].to_numpy())\n",
    "    uvdfed_Y_train.append(uvdfed_train[i].loc[:, uvdfed_train[i].columns == 'diabetes'].to_numpy().ravel())\n",
    "    #print('Size:\\n\\tfed_train[{}]:\\t{}\\n\\tfed_X_train[{}]:\\t{}\\n\\tfed_Y_train[{}]:\\t{}'.format(i, udfed_train[i].shape, i, udfed_X_train[i].shape, i, udfed_Y_train[i].shape))"
   ]
  },
  {
   "cell_type": "markdown",
   "id": "95b0ca02-c4c0-4df7-bb30-95831dd194e6",
   "metadata": {},
   "source": [
    "#### Model Definition and Training\n",
    "In the federated setting, we define 8 logistic regression models with the same parameters as in the above centralized and federated implementations. An aggregation function will occur at regular intervals after 10 epochs of client training. Training will occur for a maximum of 30 federated learning cycles (for a total of 300 client training epochs)."
   ]
  },
  {
   "cell_type": "code",
   "execution_count": 74,
   "id": "f27cb9ed-5905-410e-9aca-51cbd8ac1285",
   "metadata": {
    "tags": []
   },
   "outputs": [],
   "source": [
    "# Define Models\n",
    "# Define an array of models each representing a single client\n",
    "uvdfedModels_LR = []\n",
    "for i in range(n_clients):\n",
    "    uvdfedModels_LR.append(LogisticRegressionCV(cv=10, solver='sag', max_iter=10, random_state=random_state, penalty='l2', n_jobs=10, verbose=0))  # set verbose=1 to view output"
   ]
  },
  {
   "cell_type": "code",
   "execution_count": 76,
   "id": "23b54df7-48b6-4153-8255-34e94fc6272c",
   "metadata": {
    "tags": []
   },
   "outputs": [
    {
     "data": {
      "application/vnd.jupyter.widget-view+json": {
       "model_id": "3092df82d6514cb99e35c143dc6d3175",
       "version_major": 2,
       "version_minor": 0
      },
      "text/plain": [
       "Training...:   0%|          | 0/30 [00:00<?, ?it/s]"
      ]
     },
     "metadata": {},
     "output_type": "display_data"
    },
    {
     "data": {
      "application/vnd.jupyter.widget-view+json": {
       "model_id": "",
       "version_major": 2,
       "version_minor": 0
      },
      "text/plain": [
       "Client:   0%|          | 0/75 [00:00<?, ?it/s]"
      ]
     },
     "metadata": {},
     "output_type": "display_data"
    },
    {
     "data": {
      "application/vnd.jupyter.widget-view+json": {
       "model_id": "",
       "version_major": 2,
       "version_minor": 0
      },
      "text/plain": [
       "Client:   0%|          | 0/75 [00:00<?, ?it/s]"
      ]
     },
     "metadata": {},
     "output_type": "display_data"
    },
    {
     "data": {
      "application/vnd.jupyter.widget-view+json": {
       "model_id": "",
       "version_major": 2,
       "version_minor": 0
      },
      "text/plain": [
       "Client:   0%|          | 0/75 [00:00<?, ?it/s]"
      ]
     },
     "metadata": {},
     "output_type": "display_data"
    },
    {
     "data": {
      "application/vnd.jupyter.widget-view+json": {
       "model_id": "",
       "version_major": 2,
       "version_minor": 0
      },
      "text/plain": [
       "Client:   0%|          | 0/75 [00:00<?, ?it/s]"
      ]
     },
     "metadata": {},
     "output_type": "display_data"
    },
    {
     "data": {
      "application/vnd.jupyter.widget-view+json": {
       "model_id": "",
       "version_major": 2,
       "version_minor": 0
      },
      "text/plain": [
       "Client:   0%|          | 0/75 [00:00<?, ?it/s]"
      ]
     },
     "metadata": {},
     "output_type": "display_data"
    },
    {
     "data": {
      "application/vnd.jupyter.widget-view+json": {
       "model_id": "",
       "version_major": 2,
       "version_minor": 0
      },
      "text/plain": [
       "Client:   0%|          | 0/75 [00:00<?, ?it/s]"
      ]
     },
     "metadata": {},
     "output_type": "display_data"
    },
    {
     "data": {
      "application/vnd.jupyter.widget-view+json": {
       "model_id": "",
       "version_major": 2,
       "version_minor": 0
      },
      "text/plain": [
       "Client:   0%|          | 0/75 [00:00<?, ?it/s]"
      ]
     },
     "metadata": {},
     "output_type": "display_data"
    },
    {
     "data": {
      "application/vnd.jupyter.widget-view+json": {
       "model_id": "",
       "version_major": 2,
       "version_minor": 0
      },
      "text/plain": [
       "Client:   0%|          | 0/75 [00:00<?, ?it/s]"
      ]
     },
     "metadata": {},
     "output_type": "display_data"
    },
    {
     "data": {
      "application/vnd.jupyter.widget-view+json": {
       "model_id": "",
       "version_major": 2,
       "version_minor": 0
      },
      "text/plain": [
       "Client:   0%|          | 0/75 [00:00<?, ?it/s]"
      ]
     },
     "metadata": {},
     "output_type": "display_data"
    },
    {
     "data": {
      "application/vnd.jupyter.widget-view+json": {
       "model_id": "",
       "version_major": 2,
       "version_minor": 0
      },
      "text/plain": [
       "Client:   0%|          | 0/75 [00:00<?, ?it/s]"
      ]
     },
     "metadata": {},
     "output_type": "display_data"
    },
    {
     "data": {
      "application/vnd.jupyter.widget-view+json": {
       "model_id": "",
       "version_major": 2,
       "version_minor": 0
      },
      "text/plain": [
       "Client:   0%|          | 0/75 [00:00<?, ?it/s]"
      ]
     },
     "metadata": {},
     "output_type": "display_data"
    },
    {
     "data": {
      "application/vnd.jupyter.widget-view+json": {
       "model_id": "",
       "version_major": 2,
       "version_minor": 0
      },
      "text/plain": [
       "Client:   0%|          | 0/75 [00:00<?, ?it/s]"
      ]
     },
     "metadata": {},
     "output_type": "display_data"
    },
    {
     "data": {
      "application/vnd.jupyter.widget-view+json": {
       "model_id": "",
       "version_major": 2,
       "version_minor": 0
      },
      "text/plain": [
       "Client:   0%|          | 0/75 [00:00<?, ?it/s]"
      ]
     },
     "metadata": {},
     "output_type": "display_data"
    },
    {
     "data": {
      "application/vnd.jupyter.widget-view+json": {
       "model_id": "",
       "version_major": 2,
       "version_minor": 0
      },
      "text/plain": [
       "Client:   0%|          | 0/75 [00:00<?, ?it/s]"
      ]
     },
     "metadata": {},
     "output_type": "display_data"
    },
    {
     "data": {
      "application/vnd.jupyter.widget-view+json": {
       "model_id": "",
       "version_major": 2,
       "version_minor": 0
      },
      "text/plain": [
       "Client:   0%|          | 0/75 [00:00<?, ?it/s]"
      ]
     },
     "metadata": {},
     "output_type": "display_data"
    },
    {
     "data": {
      "application/vnd.jupyter.widget-view+json": {
       "model_id": "",
       "version_major": 2,
       "version_minor": 0
      },
      "text/plain": [
       "Client:   0%|          | 0/75 [00:00<?, ?it/s]"
      ]
     },
     "metadata": {},
     "output_type": "display_data"
    },
    {
     "data": {
      "application/vnd.jupyter.widget-view+json": {
       "model_id": "",
       "version_major": 2,
       "version_minor": 0
      },
      "text/plain": [
       "Client:   0%|          | 0/75 [00:00<?, ?it/s]"
      ]
     },
     "metadata": {},
     "output_type": "display_data"
    },
    {
     "data": {
      "application/vnd.jupyter.widget-view+json": {
       "model_id": "",
       "version_major": 2,
       "version_minor": 0
      },
      "text/plain": [
       "Client:   0%|          | 0/75 [00:00<?, ?it/s]"
      ]
     },
     "metadata": {},
     "output_type": "display_data"
    },
    {
     "data": {
      "application/vnd.jupyter.widget-view+json": {
       "model_id": "",
       "version_major": 2,
       "version_minor": 0
      },
      "text/plain": [
       "Client:   0%|          | 0/75 [00:00<?, ?it/s]"
      ]
     },
     "metadata": {},
     "output_type": "display_data"
    },
    {
     "data": {
      "application/vnd.jupyter.widget-view+json": {
       "model_id": "",
       "version_major": 2,
       "version_minor": 0
      },
      "text/plain": [
       "Client:   0%|          | 0/75 [00:00<?, ?it/s]"
      ]
     },
     "metadata": {},
     "output_type": "display_data"
    },
    {
     "data": {
      "application/vnd.jupyter.widget-view+json": {
       "model_id": "",
       "version_major": 2,
       "version_minor": 0
      },
      "text/plain": [
       "Client:   0%|          | 0/75 [00:00<?, ?it/s]"
      ]
     },
     "metadata": {},
     "output_type": "display_data"
    },
    {
     "data": {
      "application/vnd.jupyter.widget-view+json": {
       "model_id": "",
       "version_major": 2,
       "version_minor": 0
      },
      "text/plain": [
       "Client:   0%|          | 0/75 [00:00<?, ?it/s]"
      ]
     },
     "metadata": {},
     "output_type": "display_data"
    },
    {
     "data": {
      "application/vnd.jupyter.widget-view+json": {
       "model_id": "",
       "version_major": 2,
       "version_minor": 0
      },
      "text/plain": [
       "Client:   0%|          | 0/75 [00:00<?, ?it/s]"
      ]
     },
     "metadata": {},
     "output_type": "display_data"
    },
    {
     "data": {
      "application/vnd.jupyter.widget-view+json": {
       "model_id": "",
       "version_major": 2,
       "version_minor": 0
      },
      "text/plain": [
       "Client:   0%|          | 0/75 [00:00<?, ?it/s]"
      ]
     },
     "metadata": {},
     "output_type": "display_data"
    },
    {
     "data": {
      "application/vnd.jupyter.widget-view+json": {
       "model_id": "",
       "version_major": 2,
       "version_minor": 0
      },
      "text/plain": [
       "Client:   0%|          | 0/75 [00:00<?, ?it/s]"
      ]
     },
     "metadata": {},
     "output_type": "display_data"
    },
    {
     "data": {
      "application/vnd.jupyter.widget-view+json": {
       "model_id": "",
       "version_major": 2,
       "version_minor": 0
      },
      "text/plain": [
       "Client:   0%|          | 0/75 [00:00<?, ?it/s]"
      ]
     },
     "metadata": {},
     "output_type": "display_data"
    },
    {
     "data": {
      "application/vnd.jupyter.widget-view+json": {
       "model_id": "",
       "version_major": 2,
       "version_minor": 0
      },
      "text/plain": [
       "Client:   0%|          | 0/75 [00:00<?, ?it/s]"
      ]
     },
     "metadata": {},
     "output_type": "display_data"
    },
    {
     "data": {
      "application/vnd.jupyter.widget-view+json": {
       "model_id": "",
       "version_major": 2,
       "version_minor": 0
      },
      "text/plain": [
       "Client:   0%|          | 0/75 [00:00<?, ?it/s]"
      ]
     },
     "metadata": {},
     "output_type": "display_data"
    },
    {
     "data": {
      "application/vnd.jupyter.widget-view+json": {
       "model_id": "",
       "version_major": 2,
       "version_minor": 0
      },
      "text/plain": [
       "Client:   0%|          | 0/75 [00:00<?, ?it/s]"
      ]
     },
     "metadata": {},
     "output_type": "display_data"
    },
    {
     "data": {
      "application/vnd.jupyter.widget-view+json": {
       "model_id": "",
       "version_major": 2,
       "version_minor": 0
      },
      "text/plain": [
       "Client:   0%|          | 0/75 [00:00<?, ?it/s]"
      ]
     },
     "metadata": {},
     "output_type": "display_data"
    }
   ],
   "source": [
    "# Training\n",
    "# Note:  Because the individual models fail to converge iniclient_downtimes ConvergenceWarning generated by sklearn's fit() function is surpressed in the output cell below.\n",
    "#        For this reason, the training code is wrapped in `with warnings.catch_warnings():....`\n",
    "import warnings\n",
    "from tqdm import tqdm_notebook\n",
    "\n",
    "# Define the Global Model (it is not trained directly)\n",
    "uvdfedModel_GLOBAL_LR = LogisticRegressionCV(cv=10, solver='sag', max_iter=300, random_state=random_state, penalty='l2', n_jobs=10, verbose=0)\n",
    "\n",
    "# Probability of not experiencing downtime\n",
    "p = 0.40\n",
    "\n",
    "# An array to record the number of times each client experiences downtime\n",
    "vclient_downtimes = [0] * n_clients\n",
    "\n",
    "with warnings.catch_warnings():\n",
    "    warnings.simplefilter('ignore')\n",
    "    # SERVER: 30 Federated Learning Cycles\n",
    "    for i in tqdm_notebook(range(30), desc='Training...'):\n",
    "        # Generate and array of updates\n",
    "        updates = []\n",
    "        \n",
    "        # List of clients which cannot be updated due to downtime\n",
    "        downtime = []\n",
    "        \n",
    "        # CLIENT: Each Client trains on it's own data for 100 epochs\n",
    "        for j in tqdm_notebook(range(n_clients), desc='Client', leave=False):\n",
    "            # Train and Generate model update with model parameters\n",
    "            # Update is RANDOMLY appended based on probability p = 0.8\n",
    "            if np.random.binomial(1,p) == 1: \n",
    "                uvdfedModels_LR[j].fit(uvdfed_X_train[j], uvdfed_Y_train[j])\n",
    "                updates.append(ModelUpdate(coef_=uvdfedModels_LR[j].coef_,\n",
    "                                           intercept_=uvdfedModels_LR[j].intercept_,\n",
    "                                           C_=uvdfedModels_LR[j].C_)\n",
    "                               )\n",
    "            else:\n",
    "                # Keep track of clients which experienced downtime\n",
    "                downtime.append(j)\n",
    "                vclient_downtimes[j] += 1\n",
    "                \n",
    "        # Aggregate client updates and generate global model\n",
    "        global_update = FedAVG(updates)\n",
    "    \n",
    "        # Update the global model\n",
    "        uvdfedModel_GLOBAL_LR.coef_ = global_update.coef_\n",
    "        uvdfedModel_GLOBAL_LR.intercept_ = global_update.intercept_\n",
    "        uvdfedModel_GLOBAL_LR.C_ = global_update.C_\n",
    "        uvdfedModel_GLOBAL_LR.classes_ = ufedModels_LR[0].classes_\n",
    "            \n",
    "        # Update client local models before beginning next round of federated learning IFF they are not experiencing downtime this round\n",
    "        for client in uvdfedModels_LR:\n",
    "            if uvdfedModels_LR.index(client) not in downtime:\n",
    "                client.coef_ = global_update.coef_\n",
    "                client.intercept_ = global_update.intercept_\n",
    "                client.C_ = global_update.C_"
   ]
  },
  {
   "cell_type": "code",
   "execution_count": 77,
   "id": "95f97ed0-9f26-46aa-9736-110d63799e0e",
   "metadata": {},
   "outputs": [
    {
     "name": "stdout",
     "output_type": "stream",
     "text": [
      "CLIENT DOWNTIME\n",
      "Client 0: 15 times\n",
      "Client 1: 20 times\n",
      "Client 2: 20 times\n",
      "Client 3: 18 times\n",
      "Client 4: 22 times\n",
      "Client 5: 15 times\n",
      "Client 6: 13 times\n",
      "Client 7: 19 times\n",
      "Client 8: 24 times\n",
      "Client 9: 18 times\n",
      "Client 10: 18 times\n",
      "Client 11: 22 times\n",
      "Client 12: 20 times\n",
      "Client 13: 17 times\n",
      "Client 14: 15 times\n",
      "Client 15: 19 times\n",
      "Client 16: 18 times\n",
      "Client 17: 19 times\n",
      "Client 18: 19 times\n",
      "Client 19: 22 times\n",
      "Client 20: 21 times\n",
      "Client 21: 17 times\n",
      "Client 22: 18 times\n",
      "Client 23: 20 times\n",
      "Client 24: 12 times\n",
      "Client 25: 18 times\n",
      "Client 26: 23 times\n",
      "Client 27: 19 times\n",
      "Client 28: 22 times\n",
      "Client 29: 19 times\n",
      "Client 30: 21 times\n",
      "Client 31: 17 times\n",
      "Client 32: 16 times\n",
      "Client 33: 16 times\n",
      "Client 34: 20 times\n",
      "Client 35: 16 times\n",
      "Client 36: 20 times\n",
      "Client 37: 17 times\n",
      "Client 38: 19 times\n",
      "Client 39: 19 times\n",
      "Client 40: 18 times\n",
      "Client 41: 18 times\n",
      "Client 42: 22 times\n",
      "Client 43: 15 times\n",
      "Client 44: 20 times\n",
      "Client 45: 21 times\n",
      "Client 46: 20 times\n",
      "Client 47: 17 times\n",
      "Client 48: 15 times\n",
      "Client 49: 13 times\n",
      "Client 50: 18 times\n",
      "Client 51: 19 times\n",
      "Client 52: 19 times\n",
      "Client 53: 15 times\n",
      "Client 54: 17 times\n",
      "Client 55: 19 times\n",
      "Client 56: 15 times\n",
      "Client 57: 16 times\n",
      "Client 58: 15 times\n",
      "Client 59: 16 times\n",
      "Client 60: 20 times\n",
      "Client 61: 13 times\n",
      "Client 62: 19 times\n",
      "Client 63: 17 times\n",
      "Client 64: 21 times\n",
      "Client 65: 21 times\n",
      "Client 66: 18 times\n",
      "Client 67: 14 times\n",
      "Client 68: 15 times\n",
      "Client 69: 18 times\n",
      "Client 70: 23 times\n",
      "Client 71: 18 times\n",
      "Client 72: 18 times\n",
      "Client 73: 16 times\n",
      "Client 74: 20 times\n"
     ]
    }
   ],
   "source": [
    "# Print the number of times each client experienced downtime\n",
    "print(\"CLIENT DOWNTIME\")\n",
    "for i in range(n_clients):\n",
    "    print(\"Client {}: {} times\".format(i, vclient_downtimes[i]))"
   ]
  },
  {
   "cell_type": "code",
   "execution_count": 78,
   "id": "e3244891-173b-495c-b533-5cb034172102",
   "metadata": {},
   "outputs": [
    {
     "name": "stdout",
     "output_type": "stream",
     "text": [
      "              precision    recall  f1-score   support\n",
      "\n",
      "         0.0       0.96      1.00      0.98      9119\n",
      "         1.0       0.93      0.57      0.71       882\n",
      "\n",
      "    accuracy                           0.96     10001\n",
      "   macro avg       0.95      0.78      0.84     10001\n",
      "weighted avg       0.96      0.96      0.95     10001\n",
      "\n"
     ]
    },
    {
     "data": {
      "image/png": "[encoded data removed]",
      "text/plain": [
       "<Figure size 640x480 with 2 Axes>"
      ]
     },
     "metadata": {},
     "output_type": "display_data"
    }
   ],
   "source": [
    "    # Load the same test data as the centralized experiment\n",
    "uvdfed_test = pd.read_csv('diabetes_prediction_dataset_test.csv')\n",
    "uvdfed_X_test = uvdfed_test.loc[:, uvdfed_test.columns != 'diabetes'].to_numpy()\n",
    "uvdfed_Y_test = uvdfed_test.loc[:, uvdfed_test.columns == 'diabetes'].to_numpy().ravel()\n",
    "uvdfed_Y_pred = uvdfedModel_GLOBAL_LR.predict(uvdfed_X_test)\n",
    "\n",
    "# Print the confusion matrix\n",
    "uvdfed_CM = metrics.confusion_matrix(uvdfed_Y_test, uvdfed_Y_pred)\n",
    "classes = ['Negative', 'Positive']\n",
    "_, uvdfed_axis = plt.subplots()\n",
    "plt.xticks(np.arange(len(classes)), classes)\n",
    "plt.yticks(np.arange(len(classes)), classes)\n",
    "sns.heatmap(pd.DataFrame(uvdfed_CM), fmt='g', cmap='YlGnBu', annot=True)\n",
    "axis.xaxis.set_label_position('top')\n",
    "plt.tight_layout()\n",
    "plt.title('Unbalanced Federated LR w/ Downtime Confusion Matrix', y=1.1)\n",
    "plt.ylabel('Actual')\n",
    "plt.xlabel('Predicted')\n",
    "\n",
    "# Print the Classification Report\n",
    "print(classification_report(uvdfed_Y_test, uvdfed_Y_pred))"
   ]
  },
  {
   "cell_type": "code",
   "execution_count": 81,
   "id": "2cd44557-0953-4b45-aafe-9e9b529b2cbf",
   "metadata": {},
   "outputs": [
    {
     "data": {
      "image/png": "[encoded data removed]",
      "text/plain": [
       "<Figure size 640x480 with 1 Axes>"
      ]
     },
     "metadata": {},
     "output_type": "display_data"
    }
   ],
   "source": [
    "# Print the ROC and AUC score\n",
    "uvdfed_Y_prob = uvdfedModel_GLOBAL_LR.predict_proba(uvdfed_X_test)[::,1]\n",
    "uvdfed_n_pred, uvdfed_p_pred, _ = metrics.roc_curve(uvdfed_Y_test, udfed_Y_prob)\n",
    "uvdfed_auc = metrics.roc_auc_score(uvdfed_Y_test, uvdfed_Y_prob)\n",
    "plt.plot(uvdfed_n_pred, uvdfed_p_pred, label=\"auc=\"+str(uvdfed_auc))\n",
    "plt.title('ROC Curve (Unbalanced Federated Learning w/ Downtime + No Local Training)', y=1.1)\n",
    "plt.ylabel('True Positive Rate')\n",
    "plt.xlabel('False Positive Rate')\n",
    "plt.legend(loc=4)\n",
    "plt.show()"
   ]
  },
  {
   "cell_type": "code",
   "execution_count": 80,
   "id": "b585fa35-df0d-4208-9913-e37b2b2b68b0",
   "metadata": {},
   "outputs": [
    {
     "name": "stdout",
     "output_type": "stream",
     "text": [
      "(39, 15)\n",
      "(1170, 15)\n",
      "(1112, 15)\n",
      "(386, 15)\n",
      "(1622, 15)\n",
      "(2402, 15)\n",
      "(2585, 15)\n",
      "(2423, 15)\n",
      "(1204, 15)\n",
      "(354, 15)\n",
      "(651, 15)\n",
      "(2386, 15)\n",
      "(1584, 15)\n",
      "(21, 15)\n",
      "(88, 15)\n",
      "(1710, 15)\n",
      "(52, 15)\n",
      "(2690, 15)\n",
      "(732, 15)\n",
      "(4361, 15)\n",
      "(969, 15)\n",
      "(519, 15)\n",
      "(2320, 15)\n",
      "(1421, 15)\n",
      "(187, 15)\n",
      "(4532, 15)\n",
      "(1762, 15)\n",
      "(203, 15)\n",
      "(156, 15)\n",
      "(2707, 15)\n",
      "(851, 15)\n",
      "(2373, 15)\n",
      "(1127, 15)\n",
      "(306, 15)\n",
      "(125, 15)\n",
      "(2002, 15)\n",
      "(477, 15)\n",
      "(252, 15)\n",
      "(2864, 15)\n",
      "(260, 15)\n",
      "(1521, 15)\n",
      "(375, 15)\n",
      "(435, 15)\n",
      "(338, 15)\n",
      "(296, 15)\n",
      "(429, 15)\n",
      "(2320, 15)\n",
      "(45, 15)\n",
      "(2795, 15)\n",
      "(228, 15)\n",
      "(666, 15)\n",
      "(170, 15)\n",
      "(1648, 15)\n",
      "(2535, 15)\n",
      "(23, 15)\n",
      "(181, 15)\n",
      "(1117, 15)\n",
      "(62, 15)\n",
      "(781, 15)\n",
      "(140, 15)\n",
      "(202, 15)\n",
      "(237, 15)\n",
      "(953, 15)\n",
      "(1122, 15)\n",
      "(3028, 15)\n",
      "(803, 15)\n",
      "(2498, 15)\n",
      "(180, 15)\n",
      "(1757, 15)\n",
      "(2155, 15)\n",
      "(377, 15)\n",
      "(2349, 15)\n",
      "(794, 15)\n",
      "(1395, 15)\n",
      "(3059, 15)\n"
     ]
    }
   ],
   "source": [
    "for dataset in uvdfed_X_train:\n",
    "    print(dataset.shape)"
   ]
  }
 ],
 "metadata": {
  "kernelspec": {
   "display_name": "Python 3 (ipykernel)",
   "language": "python",
   "name": "python3"
  },
  "language_info": {
   "codemirror_mode": {
    "name": "ipython",
    "version": 3
   },
   "file_extension": ".py",
   "mimetype": "text/x-python",
   "name": "python",
   "nbconvert_exporter": "python",
   "pygments_lexer": "ipython3",
   "version": "3.7.1"
  }
 },
 "nbformat": 4,
 "nbformat_minor": 5
}
